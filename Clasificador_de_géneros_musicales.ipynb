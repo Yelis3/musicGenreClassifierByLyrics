{
  "nbformat": 4,
  "nbformat_minor": 0,
  "metadata": {
    "colab": {
      "name": "Clasificador de géneros musicales",
      "version": "0.3.2",
      "provenance": [],
      "collapsed_sections": [],
      "include_colab_link": true
    },
    "kernelspec": {
      "name": "python3",
      "display_name": "Python 3"
    },
    "accelerator": "GPU"
  },
  "cells": [
    {
      "cell_type": "markdown",
      "metadata": {
        "id": "view-in-github",
        "colab_type": "text"
      },
      "source": [
        "<a href=\"https://colab.research.google.com/github/Yelis3/musicGenreClassifierByLyrics/blob/master/Clasificador_de_g%C3%A9neros_musicales.ipynb\" target=\"_parent\"><img src=\"https://colab.research.google.com/assets/colab-badge.svg\" alt=\"Open In Colab\"/></a>"
      ]
    },
    {
      "metadata": {
        "id": "EChi8EptmrU1",
        "colab_type": "text"
      },
      "cell_type": "markdown",
      "source": [
        "##Instalar librerías"
      ]
    },
    {
      "metadata": {
        "id": "9JgVD7N2nYUz",
        "colab_type": "code",
        "outputId": "3b2feb9d-66d1-4fc0-cc57-9d81dd75d7fd",
        "colab": {
          "base_uri": "https://localhost:8080/",
          "height": 534
        }
      },
      "cell_type": "code",
      "source": [
        "!pip install kaggle\n",
        "!pip install -q kaggle-cli\n",
        "!pip install langdetect"
      ],
      "execution_count": 5,
      "outputs": [
        {
          "output_type": "stream",
          "text": [
            "Requirement already satisfied: kaggle in /usr/local/lib/python3.6/dist-packages (1.5.3)\n",
            "Requirement already satisfied: urllib3<1.25,>=1.21.1 in /usr/local/lib/python3.6/dist-packages (from kaggle) (1.22)\n",
            "Requirement already satisfied: six>=1.10 in /usr/local/lib/python3.6/dist-packages (from kaggle) (1.11.0)\n",
            "Requirement already satisfied: certifi in /usr/local/lib/python3.6/dist-packages (from kaggle) (2018.11.29)\n",
            "Requirement already satisfied: python-dateutil in /usr/local/lib/python3.6/dist-packages (from kaggle) (2.5.3)\n",
            "Requirement already satisfied: requests in /usr/local/lib/python3.6/dist-packages (from kaggle) (2.18.4)\n",
            "Requirement already satisfied: tqdm in /usr/local/lib/python3.6/dist-packages (from kaggle) (4.28.1)\n",
            "Requirement already satisfied: python-slugify in /usr/local/lib/python3.6/dist-packages (from kaggle) (2.0.1)\n",
            "Requirement already satisfied: idna<2.7,>=2.5 in /usr/local/lib/python3.6/dist-packages (from requests->kaggle) (2.6)\n",
            "Requirement already satisfied: chardet<3.1.0,>=3.0.2 in /usr/local/lib/python3.6/dist-packages (from requests->kaggle) (3.0.4)\n",
            "Requirement already satisfied: Unidecode>=0.04.16 in /usr/local/lib/python3.6/dist-packages (from python-slugify->kaggle) (1.0.23)\n",
            "\u001b[K    100% |████████████████████████████████| 81kB 3.8MB/s \n",
            "\u001b[K    100% |████████████████████████████████| 5.3MB 6.8MB/s \n",
            "\u001b[K    100% |████████████████████████████████| 92kB 27.3MB/s \n",
            "\u001b[K    100% |████████████████████████████████| 51kB 22.9MB/s \n",
            "\u001b[?25h  Building wheel for kaggle-cli (setup.py) ... \u001b[?25ldone\n",
            "\u001b[?25h  Building wheel for cliff (setup.py) ... \u001b[?25ldone\n",
            "\u001b[?25h  Building wheel for pyperclip (setup.py) ... \u001b[?25ldone\n",
            "\u001b[?25hCollecting langdetect\n",
            "\u001b[?25l  Downloading https://files.pythonhosted.org/packages/59/59/4bc44158a767a6d66de18c4136c8aa90491d56cc951c10b74dd1e13213c9/langdetect-1.0.7.zip (998kB)\n",
            "\u001b[K    100% |████████████████████████████████| 1.0MB 24.0MB/s \n",
            "\u001b[?25hRequirement already satisfied: six in /usr/local/lib/python3.6/dist-packages (from langdetect) (1.11.0)\n",
            "Building wheels for collected packages: langdetect\n",
            "  Building wheel for langdetect (setup.py) ... \u001b[?25ldone\n",
            "\u001b[?25h  Stored in directory: /root/.cache/pip/wheels/ec/0c/a9/1647275e7ef5014e7b83ff30105180e332867d65e7617ddafe\n",
            "Successfully built langdetect\n",
            "Installing collected packages: langdetect\n",
            "Successfully installed langdetect-1.0.7\n"
          ],
          "name": "stdout"
        }
      ]
    },
    {
      "metadata": {
        "id": "j4aYw5KpsK9S",
        "colab_type": "text"
      },
      "cell_type": "markdown",
      "source": [
        "#1 Dataset\n",
        "\n",
        "El dataset que se uso fue [380,000+ lyrics from MetroLyrics](https://www.kaggle.com/gyani95/380000-lyrics-from-metrolyrics) de Kaggle. Este dataset cuenta con el titulo, año, artista, genero y la letra de aproximadamente 362236 canciones.\n"
      ]
    },
    {
      "metadata": {
        "id": "qGjgL4rm3SLr",
        "colab_type": "text"
      },
      "cell_type": "markdown",
      "source": [
        "##1.1 Descargar de kaggle"
      ]
    },
    {
      "metadata": {
        "id": "ZCIObXjysHrg",
        "colab_type": "code",
        "outputId": "b743ae2e-0e40-4a84-f267-08aff1e04907",
        "colab": {
          "resources": {
            "http://localhost:8080/nbextensions/google.colab/files.js": {
              "data": "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",
              "ok": true,
              "headers": [
                [
                  "content-type",
                  "application/javascript"
                ]
              ],
              "status": 200,
              "status_text": ""
            }
          },
          "base_uri": "https://localhost:8080/",
          "height": 112
        }
      },
      "cell_type": "code",
      "source": [
        "from google.colab import files\n",
        "files.upload()"
      ],
      "execution_count": 6,
      "outputs": [
        {
          "output_type": "display_data",
          "data": {
            "text/html": [
              "\n",
              "     <input type=\"file\" id=\"files-c5cd2d41-9da7-44fc-9740-d96381d09d5a\" name=\"files[]\" multiple disabled />\n",
              "     <output id=\"result-c5cd2d41-9da7-44fc-9740-d96381d09d5a\">\n",
              "      Upload widget is only available when the cell has been executed in the\n",
              "      current browser session. Please rerun this cell to enable.\n",
              "      </output>\n",
              "      <script src=\"/nbextensions/google.colab/files.js\"></script> "
            ],
            "text/plain": [
              "<IPython.core.display.HTML object>"
            ]
          },
          "metadata": {
            "tags": []
          }
        },
        {
          "output_type": "stream",
          "text": [
            "Saving kaggle.json to kaggle.json\n"
          ],
          "name": "stdout"
        },
        {
          "output_type": "execute_result",
          "data": {
            "text/plain": [
              "{'kaggle.json': b'{\"username\":\"jesusfchavarro\",\"key\":\"nope\"}'}"
            ]
          },
          "metadata": {
            "tags": []
          },
          "execution_count": 6
        }
      ]
    },
    {
      "metadata": {
        "id": "H7TUJOHYsxO4",
        "colab_type": "code",
        "outputId": "83534321-73ff-4597-ae34-896608444dd7",
        "colab": {
          "base_uri": "https://localhost:8080/",
          "height": 107
        }
      },
      "cell_type": "code",
      "source": [
        "!mkdir -p ~/.kaggle\n",
        "!cp kaggle.json ~/.kaggle/\n",
        "!chmod 600 ~/.kaggle/kaggle.json\n",
        "\n",
        "!kaggle config set -n path -v /content\n",
        "!kaggle datasets download -d gyani95/380000-lyrics-from-metrolyrics"
      ],
      "execution_count": 7,
      "outputs": [
        {
          "output_type": "stream",
          "text": [
            "- path is now set to: /content\n",
            "Downloading 380000-lyrics-from-metrolyrics.zip to /content/datasets/gyani95/380000-lyrics-from-metrolyrics\n",
            " 84% 83.0M/98.5M [00:00<00:00, 139MB/s]\n",
            "100% 98.5M/98.5M [00:00<00:00, 168MB/s]\n"
          ],
          "name": "stdout"
        }
      ]
    },
    {
      "metadata": {
        "id": "OkTYWjZhy3vm",
        "colab_type": "text"
      },
      "cell_type": "markdown",
      "source": [
        "##1.2 Limpieza\n"
      ]
    },
    {
      "metadata": {
        "id": "5-YQS-Qf6J1d",
        "colab_type": "code",
        "colab": {}
      },
      "cell_type": "code",
      "source": [
        "import pandas as pd\n",
        "import numpy as np \n",
        "import matplotlib.pyplot as plt"
      ],
      "execution_count": 0,
      "outputs": []
    },
    {
      "metadata": {
        "id": "9VqbarZ7E7K6",
        "colab_type": "text"
      },
      "cell_type": "markdown",
      "source": [
        "###1.2.1 Letras y generos inutiles\n",
        "Se eliminan los registros con generos 'Not Available' y 'Other' y sin letras.\n"
      ]
    },
    {
      "metadata": {
        "id": "xAQ_Z7QHxzgO",
        "colab_type": "code",
        "outputId": "df3ccb65-b347-4d6c-e052-fc8774c81ccd",
        "colab": {
          "base_uri": "https://localhost:8080/",
          "height": 198
        }
      },
      "cell_type": "code",
      "source": [
        "data = pd.read_csv('/content/datasets/gyani95/380000-lyrics-from-metrolyrics/380000-lyrics-from-metrolyrics.zip')    # read csv\n",
        "data = data.drop(data[(data.genre == 'Not Available') | (data.genre == 'Other') | (data.lyrics.isna())].index)\n",
        "data.head()\n"
      ],
      "execution_count": 0,
      "outputs": [
        {
          "output_type": "execute_result",
          "data": {
            "text/html": [
              "<div>\n",
              "<style scoped>\n",
              "    .dataframe tbody tr th:only-of-type {\n",
              "        vertical-align: middle;\n",
              "    }\n",
              "\n",
              "    .dataframe tbody tr th {\n",
              "        vertical-align: top;\n",
              "    }\n",
              "\n",
              "    .dataframe thead th {\n",
              "        text-align: right;\n",
              "    }\n",
              "</style>\n",
              "<table border=\"1\" class=\"dataframe\">\n",
              "  <thead>\n",
              "    <tr style=\"text-align: right;\">\n",
              "      <th></th>\n",
              "      <th>index</th>\n",
              "      <th>song</th>\n",
              "      <th>year</th>\n",
              "      <th>artist</th>\n",
              "      <th>genre</th>\n",
              "      <th>lyrics</th>\n",
              "    </tr>\n",
              "  </thead>\n",
              "  <tbody>\n",
              "    <tr>\n",
              "      <th>0</th>\n",
              "      <td>0</td>\n",
              "      <td>ego-remix</td>\n",
              "      <td>2009</td>\n",
              "      <td>beyonce-knowles</td>\n",
              "      <td>Pop</td>\n",
              "      <td>Oh baby, how you doing?\\nYou know I'm gonna cu...</td>\n",
              "    </tr>\n",
              "    <tr>\n",
              "      <th>1</th>\n",
              "      <td>1</td>\n",
              "      <td>then-tell-me</td>\n",
              "      <td>2009</td>\n",
              "      <td>beyonce-knowles</td>\n",
              "      <td>Pop</td>\n",
              "      <td>playin' everything so easy,\\nit's like you see...</td>\n",
              "    </tr>\n",
              "    <tr>\n",
              "      <th>2</th>\n",
              "      <td>2</td>\n",
              "      <td>honesty</td>\n",
              "      <td>2009</td>\n",
              "      <td>beyonce-knowles</td>\n",
              "      <td>Pop</td>\n",
              "      <td>If you search\\nFor tenderness\\nIt isn't hard t...</td>\n",
              "    </tr>\n",
              "    <tr>\n",
              "      <th>3</th>\n",
              "      <td>3</td>\n",
              "      <td>you-are-my-rock</td>\n",
              "      <td>2009</td>\n",
              "      <td>beyonce-knowles</td>\n",
              "      <td>Pop</td>\n",
              "      <td>Oh oh oh I, oh oh oh I\\n[Verse 1:]\\nIf I wrote...</td>\n",
              "    </tr>\n",
              "    <tr>\n",
              "      <th>4</th>\n",
              "      <td>4</td>\n",
              "      <td>black-culture</td>\n",
              "      <td>2009</td>\n",
              "      <td>beyonce-knowles</td>\n",
              "      <td>Pop</td>\n",
              "      <td>Party the people, the people the party it's po...</td>\n",
              "    </tr>\n",
              "  </tbody>\n",
              "</table>\n",
              "</div>"
            ],
            "text/plain": [
              "   index             song  year           artist genre  \\\n",
              "0      0        ego-remix  2009  beyonce-knowles   Pop   \n",
              "1      1     then-tell-me  2009  beyonce-knowles   Pop   \n",
              "2      2          honesty  2009  beyonce-knowles   Pop   \n",
              "3      3  you-are-my-rock  2009  beyonce-knowles   Pop   \n",
              "4      4    black-culture  2009  beyonce-knowles   Pop   \n",
              "\n",
              "                                              lyrics  \n",
              "0  Oh baby, how you doing?\\nYou know I'm gonna cu...  \n",
              "1  playin' everything so easy,\\nit's like you see...  \n",
              "2  If you search\\nFor tenderness\\nIt isn't hard t...  \n",
              "3  Oh oh oh I, oh oh oh I\\n[Verse 1:]\\nIf I wrote...  \n",
              "4  Party the people, the people the party it's po...  "
            ]
          },
          "metadata": {
            "tags": []
          },
          "execution_count": 5
        }
      ]
    },
    {
      "metadata": {
        "id": "ovs03DRA_OTL",
        "colab_type": "text"
      },
      "cell_type": "markdown",
      "source": [
        "###1.2.2 Lenguaje\n",
        "Como el dataset contiene canciones en varios idiomas se usa la libreria langdetect para agregar esta caracteristicas al dataset, dado que es un proceso que toma bastante tiempo guardamos todo en un archivo para evitar hacerlo varias veces.\n",
        "\n"
      ]
    },
    {
      "metadata": {
        "id": "tuwMrIYbBFKy",
        "colab_type": "code",
        "colab": {}
      },
      "cell_type": "code",
      "source": [
        "#No correr al menos que se quiera modificar el dataset\n",
        "from langdetect import detect\n",
        "\n",
        "def try_detect(text):\n",
        "  l = 75 if len(text) > 50 else len(text)\n",
        "  try:\n",
        "    return detect(text[:l])\n",
        "  except:\n",
        "    return \"NN\"\n",
        "  \n",
        "#No correr al menos que se quiera modificar el dataset\n",
        "#data['language'] = data.lyrics.apply(lambda r : try_detect(r))"
      ],
      "execution_count": 0,
      "outputs": []
    },
    {
      "metadata": {
        "id": "PGFSuqndE2BI",
        "colab_type": "text"
      },
      "cell_type": "markdown",
      "source": [
        "Bajamos el dataset ya procesado de kaggle"
      ]
    },
    {
      "metadata": {
        "id": "lfvGvMG-lSNy",
        "colab_type": "code",
        "colab": {
          "base_uri": "https://localhost:8080/",
          "height": 70
        },
        "outputId": "316d1405-aead-4897-cca1-f3d1ed848514"
      },
      "cell_type": "code",
      "source": [
        "!kaggle datasets download -d jesusfchavarro/237427lyricsfrommetrolyticscsv"
      ],
      "execution_count": 10,
      "outputs": [
        {
          "output_type": "stream",
          "text": [
            "Downloading 237427lyricsfrommetrolyticscsv.zip to /content/datasets/jesusfchavarro/237427lyricsfrommetrolyticscsv\n",
            " 78% 65.0M/83.3M [00:01<00:00, 42.6MB/s]\n",
            "100% 83.3M/83.3M [00:01<00:00, 78.3MB/s]\n"
          ],
          "name": "stdout"
        }
      ]
    },
    {
      "metadata": {
        "id": "o_fmxjPGpwaq",
        "colab_type": "code",
        "colab": {}
      },
      "cell_type": "code",
      "source": [
        "data = pd.read_csv('/content/datasets/jesusfchavarro/237427lyricsfrommetrolyticscsv/237427lyricsfrommetrolyticscsv.zip')    # read csv"
      ],
      "execution_count": 0,
      "outputs": []
    },
    {
      "metadata": {
        "id": "Cl5Fd46SRKO6",
        "colab_type": "text"
      },
      "cell_type": "markdown",
      "source": [
        "###1.2.3 Numero minimo de palabras\n",
        "\n",
        "Varias canciones tienen como letra cosas como \"Intrumental\" o \"Orchestra\". Para evitar este tipo de canciones eliminamos todas las cancioens con menos de 14 palabras."
      ]
    },
    {
      "metadata": {
        "id": "SQ5Gxkm7CN8y",
        "colab_type": "code",
        "colab": {}
      },
      "cell_type": "code",
      "source": [
        "import re\n",
        "\n",
        "def transform_lyrics(text):\n",
        "    text = re.sub(r'\\[.*\\]|\\(.{,25}\\)', '', text) # Se quita todo los parentesis o corchetes ej. [Instrumental]\n",
        "    return re.sub(r'\\n', ' \\n ', text) # se le agrega un espacion a cada lado al salto de linea para despues poderlo tomar como palabra\n",
        "\n",
        "\n",
        "data.lyrics = data.lyrics.apply(transform_lyrics)\n",
        "data = data[data.lyrics.apply(lambda x: len(re.split(r'\\s+|\\W+', x))>13 )]"
      ],
      "execution_count": 0,
      "outputs": []
    },
    {
      "metadata": {
        "id": "QXWyjYqSKN8C",
        "colab_type": "text"
      },
      "cell_type": "markdown",
      "source": [
        "##1.3 Analisis del dataset\n",
        "\n",
        "Despues de limpiar el dataset terminamos con una cantidad de 206361 canciones.A continuación se sacaran algunos datos que nos parecio importante tener en cuenta."
      ]
    },
    {
      "metadata": {
        "id": "M_AGbLBn3hsq",
        "colab_type": "text"
      },
      "cell_type": "markdown",
      "source": [
        "###1.3.1 Genero"
      ]
    },
    {
      "metadata": {
        "id": "_SGDZ0JpHst1",
        "colab_type": "text"
      },
      "cell_type": "markdown",
      "source": [
        "La distribucion de generos en el dataset se puede apreciar en las siguientes graficas. Se aprecia que los 2 generos con mas registros son Rock y Pop con el 46% y el 17% de canciones aproximadamente, y los generos con menos registros son Folk e Indie con el 0.94% y el 1.33% respectivamente."
      ]
    },
    {
      "metadata": {
        "id": "5zqOU8bB5glE",
        "colab_type": "code",
        "outputId": "fab76fb3-30a1-4c44-971c-e4f7daa1d725",
        "colab": {
          "base_uri": "https://localhost:8080/",
          "height": 442
        }
      },
      "cell_type": "code",
      "source": [
        "plot_data = data['genre'].value_counts()\n",
        "\n",
        "plt.figure(1, figsize=(15, 7))\n",
        "plt.subplot(121)\n",
        "plt.title('Numero de canciones por generos')\n",
        "plt.bar(np.arange(len(plot_data)), plot_data.values)\n",
        "plt.xticks(np.arange(len(plot_data)), plot_data.keys().values)\n",
        "plt.grid(True)\n",
        "\n",
        "plt.subplot(122)\n",
        "plt.title('% de cada genero')\n",
        "plt.pie(plot_data.values, labels=plot_data.keys().values,\n",
        "        autopct = '%1.2f%%')\n",
        "\n",
        "plt.show()"
      ],
      "execution_count": 13,
      "outputs": [
        {
          "output_type": "display_data",
          "data": {
            "image/png": "[encoded data removed]",
            "text/plain": [
              "<Figure size 1080x504 with 2 Axes>"
            ]
          },
          "metadata": {
            "tags": []
          }
        }
      ]
    },
    {
      "metadata": {
        "id": "MHOqBrLQ38ei",
        "colab_type": "code",
        "outputId": "32627de0-1c91-4ded-ab1c-c65b823a0d11",
        "colab": {
          "base_uri": "https://localhost:8080/",
          "height": 528
        }
      },
      "cell_type": "code",
      "source": [
        "data.groupby(['genre'])['artist'].unique()[plot_data.keys().values].apply(len).plot('bar',title=\"Numero de artistas por genero\",figsize=(17, 7))"
      ],
      "execution_count": 14,
      "outputs": [
        {
          "output_type": "execute_result",
          "data": {
            "text/plain": [
              "<matplotlib.axes._subplots.AxesSubplot at 0x7f0eede08d68>"
            ]
          },
          "metadata": {
            "tags": []
          },
          "execution_count": 14
        },
        {
          "output_type": "display_data",
          "data": {
            "image/png": "[encoded data removed]",
            "text/plain": [
              "<Figure size 1224x504 with 1 Axes>"
            ]
          },
          "metadata": {
            "tags": []
          }
        }
      ]
    },
    {
      "metadata": {
        "id": "l-8YzFg__-8M",
        "colab_type": "text"
      },
      "cell_type": "markdown",
      "source": [
        "###1.3.2 Artistas\n",
        "Cuales son los artistas con mayor numero de canciones."
      ]
    },
    {
      "metadata": {
        "id": "Tyb5kq8eAqMC",
        "colab_type": "code",
        "outputId": "3bf6eda2-90d6-4cfb-b794-8536698d1837",
        "colab": {
          "base_uri": "https://localhost:8080/",
          "height": 390
        }
      },
      "cell_type": "code",
      "source": [
        "data['artist'].value_counts()[:20]\n"
      ],
      "execution_count": 15,
      "outputs": [
        {
          "output_type": "execute_result",
          "data": {
            "text/plain": [
              "dolly-parton         744\n",
              "elton-john           661\n",
              "chris-brown          624\n",
              "barbra-streisand     606\n",
              "eddy-arnold          591\n",
              "bee-gees             588\n",
              "bob-dylan            585\n",
              "eminem               573\n",
              "ella-fitzgerald      571\n",
              "american-idol        568\n",
              "dean-martin          559\n",
              "david-bowie          550\n",
              "celine-dion          540\n",
              "b-b-king             540\n",
              "elvis-costello       518\n",
              "bruce-springsteen    509\n",
              "beach-boys           476\n",
              "bill-anderson        465\n",
              "eric-clapton         442\n",
              "frank-zappa          419\n",
              "Name: artist, dtype: int64"
            ]
          },
          "metadata": {
            "tags": []
          },
          "execution_count": 15
        }
      ]
    },
    {
      "metadata": {
        "id": "qEUqN8P4A8Sw",
        "colab_type": "text"
      },
      "cell_type": "markdown",
      "source": [
        "###1.3.3 Lenguaje"
      ]
    },
    {
      "metadata": {
        "id": "LslgGd2nTzqn",
        "colab_type": "text"
      },
      "cell_type": "markdown",
      "source": [
        "Como se distribuye los diferentes lenguajes en el dataset."
      ]
    },
    {
      "metadata": {
        "id": "wmWhQLsSBDWh",
        "colab_type": "code",
        "outputId": "f189e261-51d7-4818-f86c-e8a3a419da28",
        "colab": {
          "base_uri": "https://localhost:8080/",
          "height": 495
        }
      },
      "cell_type": "code",
      "source": [
        "data['language'].value_counts().plot('bar',title=\"Numero de artistas por genero\", figsize=(17, 7))"
      ],
      "execution_count": 16,
      "outputs": [
        {
          "output_type": "execute_result",
          "data": {
            "text/plain": [
              "<matplotlib.axes._subplots.AxesSubplot at 0x7f0eee413c88>"
            ]
          },
          "metadata": {
            "tags": []
          },
          "execution_count": 16
        },
        {
          "output_type": "display_data",
          "data": {
            "image/png": "[encoded data removed]",
            "text/plain": [
              "<Figure size 1224x504 with 1 Axes>"
            ]
          },
          "metadata": {
            "tags": []
          }
        }
      ]
    },
    {
      "metadata": {
        "id": "CNoXH_LZxcAJ",
        "colab_type": "text"
      },
      "cell_type": "markdown",
      "source": [
        "##1.4 Dividir los datos de train y test"
      ]
    },
    {
      "metadata": {
        "id": "umrF6xXix9Pw",
        "colab_type": "code",
        "outputId": "fa98eb51-8452-4940-cb0a-4412c806aa60",
        "colab": {
          "base_uri": "https://localhost:8080/",
          "height": 233
        }
      },
      "cell_type": "code",
      "source": [
        "from sklearn.model_selection import train_test_split\n",
        "from keras.utils import to_categorical\n",
        "\n",
        "dataEN = data[data.language == 'en']   # select only the english songs\n",
        "X = dataEN.drop(columns=\"genre\")       # leave the rest of the data (x)\n",
        "y_labels = np.unique(dataEN['genre'])  # extract genre data into numpy array (y)\n",
        "y_class = dataEN['genre'].apply(lambda g:np.argmax(y_labels==g))\n",
        "y = to_categorical(y_class)\n",
        "print(X.shape)\n",
        "X.head()"
      ],
      "execution_count": 17,
      "outputs": [
        {
          "output_type": "stream",
          "text": [
            "Using TensorFlow backend.\n"
          ],
          "name": "stderr"
        },
        {
          "output_type": "stream",
          "text": [
            "(205444, 6)\n"
          ],
          "name": "stdout"
        },
        {
          "output_type": "execute_result",
          "data": {
            "text/html": [
              "<div>\n",
              "<style scoped>\n",
              "    .dataframe tbody tr th:only-of-type {\n",
              "        vertical-align: middle;\n",
              "    }\n",
              "\n",
              "    .dataframe tbody tr th {\n",
              "        vertical-align: top;\n",
              "    }\n",
              "\n",
              "    .dataframe thead th {\n",
              "        text-align: right;\n",
              "    }\n",
              "</style>\n",
              "<table border=\"1\" class=\"dataframe\">\n",
              "  <thead>\n",
              "    <tr style=\"text-align: right;\">\n",
              "      <th></th>\n",
              "      <th>index</th>\n",
              "      <th>song</th>\n",
              "      <th>year</th>\n",
              "      <th>artist</th>\n",
              "      <th>lyrics</th>\n",
              "      <th>language</th>\n",
              "    </tr>\n",
              "  </thead>\n",
              "  <tbody>\n",
              "    <tr>\n",
              "      <th>0</th>\n",
              "      <td>0</td>\n",
              "      <td>ego-remix</td>\n",
              "      <td>2009</td>\n",
              "      <td>beyonce-knowles</td>\n",
              "      <td>Oh baby, how you doing? \\n You know I'm gonna ...</td>\n",
              "      <td>en</td>\n",
              "    </tr>\n",
              "    <tr>\n",
              "      <th>1</th>\n",
              "      <td>1</td>\n",
              "      <td>then-tell-me</td>\n",
              "      <td>2009</td>\n",
              "      <td>beyonce-knowles</td>\n",
              "      <td>playin' everything so easy, \\n it's like you s...</td>\n",
              "      <td>en</td>\n",
              "    </tr>\n",
              "    <tr>\n",
              "      <th>2</th>\n",
              "      <td>2</td>\n",
              "      <td>honesty</td>\n",
              "      <td>2009</td>\n",
              "      <td>beyonce-knowles</td>\n",
              "      <td>If you search \\n For tenderness \\n It isn't ha...</td>\n",
              "      <td>en</td>\n",
              "    </tr>\n",
              "    <tr>\n",
              "      <th>3</th>\n",
              "      <td>3</td>\n",
              "      <td>you-are-my-rock</td>\n",
              "      <td>2009</td>\n",
              "      <td>beyonce-knowles</td>\n",
              "      <td>Oh oh oh I, oh oh oh I \\n  \\n If I wrote a boo...</td>\n",
              "      <td>en</td>\n",
              "    </tr>\n",
              "    <tr>\n",
              "      <th>4</th>\n",
              "      <td>4</td>\n",
              "      <td>black-culture</td>\n",
              "      <td>2009</td>\n",
              "      <td>beyonce-knowles</td>\n",
              "      <td>Party the people, the people the party it's po...</td>\n",
              "      <td>en</td>\n",
              "    </tr>\n",
              "  </tbody>\n",
              "</table>\n",
              "</div>"
            ],
            "text/plain": [
              "   index             song  year           artist  \\\n",
              "0      0        ego-remix  2009  beyonce-knowles   \n",
              "1      1     then-tell-me  2009  beyonce-knowles   \n",
              "2      2          honesty  2009  beyonce-knowles   \n",
              "3      3  you-are-my-rock  2009  beyonce-knowles   \n",
              "4      4    black-culture  2009  beyonce-knowles   \n",
              "\n",
              "                                              lyrics language  \n",
              "0  Oh baby, how you doing? \\n You know I'm gonna ...       en  \n",
              "1  playin' everything so easy, \\n it's like you s...       en  \n",
              "2  If you search \\n For tenderness \\n It isn't ha...       en  \n",
              "3  Oh oh oh I, oh oh oh I \\n  \\n If I wrote a boo...       en  \n",
              "4  Party the people, the people the party it's po...       en  "
            ]
          },
          "metadata": {
            "tags": []
          },
          "execution_count": 17
        }
      ]
    },
    {
      "metadata": {
        "id": "tnufJGfnyTHg",
        "colab_type": "code",
        "colab": {}
      },
      "cell_type": "code",
      "source": [
        "x_train, x_test, y_train, y_test = train_test_split(X, y, test_size=0.3, random_state=2)"
      ],
      "execution_count": 0,
      "outputs": []
    },
    {
      "metadata": {
        "id": "laTugUaS1eOt",
        "colab_type": "code",
        "outputId": "a39cae34-1212-4b64-fa36-d012e1898fea",
        "colab": {
          "base_uri": "https://localhost:8080/",
          "height": 197
        }
      },
      "cell_type": "code",
      "source": [
        "x_train.head()"
      ],
      "execution_count": 19,
      "outputs": [
        {
          "output_type": "execute_result",
          "data": {
            "text/html": [
              "<div>\n",
              "<style scoped>\n",
              "    .dataframe tbody tr th:only-of-type {\n",
              "        vertical-align: middle;\n",
              "    }\n",
              "\n",
              "    .dataframe tbody tr th {\n",
              "        vertical-align: top;\n",
              "    }\n",
              "\n",
              "    .dataframe thead th {\n",
              "        text-align: right;\n",
              "    }\n",
              "</style>\n",
              "<table border=\"1\" class=\"dataframe\">\n",
              "  <thead>\n",
              "    <tr style=\"text-align: right;\">\n",
              "      <th></th>\n",
              "      <th>index</th>\n",
              "      <th>song</th>\n",
              "      <th>year</th>\n",
              "      <th>artist</th>\n",
              "      <th>lyrics</th>\n",
              "      <th>language</th>\n",
              "    </tr>\n",
              "  </thead>\n",
              "  <tbody>\n",
              "    <tr>\n",
              "      <th>46563</th>\n",
              "      <td>72946</td>\n",
              "      <td>life-on-the-road</td>\n",
              "      <td>2006</td>\n",
              "      <td>all</td>\n",
              "      <td>Lyrics And Music By Bill Stevenson Crabs, Scab...</td>\n",
              "      <td>en</td>\n",
              "    </tr>\n",
              "    <tr>\n",
              "      <th>234429</th>\n",
              "      <td>357818</td>\n",
              "      <td>peaceful-easy-feeling</td>\n",
              "      <td>1990</td>\n",
              "      <td>the-eagles</td>\n",
              "      <td>I like the way sparkling earrings lay \\n Again...</td>\n",
              "      <td>en</td>\n",
              "    </tr>\n",
              "    <tr>\n",
              "      <th>17645</th>\n",
              "      <td>28060</td>\n",
              "      <td>in-vain-or-true</td>\n",
              "      <td>2010</td>\n",
              "      <td>fistful-of-mercy</td>\n",
              "      <td>Just 'cuz you say don't make it true \\n Just '...</td>\n",
              "      <td>en</td>\n",
              "    </tr>\n",
              "    <tr>\n",
              "      <th>121039</th>\n",
              "      <td>185397</td>\n",
              "      <td>please-no-more-sad-songs</td>\n",
              "      <td>2006</td>\n",
              "      <td>electric-light-orchestra</td>\n",
              "      <td>Yes she's leaving on the train \\n Never coming...</td>\n",
              "      <td>en</td>\n",
              "    </tr>\n",
              "    <tr>\n",
              "      <th>177300</th>\n",
              "      <td>271624</td>\n",
              "      <td>until-now</td>\n",
              "      <td>2006</td>\n",
              "      <td>david-kersh</td>\n",
              "      <td>Until this moment, love was just a word in a s...</td>\n",
              "      <td>en</td>\n",
              "    </tr>\n",
              "  </tbody>\n",
              "</table>\n",
              "</div>"
            ],
            "text/plain": [
              "         index                      song  year                    artist  \\\n",
              "46563    72946          life-on-the-road  2006                       all   \n",
              "234429  357818     peaceful-easy-feeling  1990                the-eagles   \n",
              "17645    28060           in-vain-or-true  2010          fistful-of-mercy   \n",
              "121039  185397  please-no-more-sad-songs  2006  electric-light-orchestra   \n",
              "177300  271624                 until-now  2006               david-kersh   \n",
              "\n",
              "                                                   lyrics language  \n",
              "46563   Lyrics And Music By Bill Stevenson Crabs, Scab...       en  \n",
              "234429  I like the way sparkling earrings lay \\n Again...       en  \n",
              "17645   Just 'cuz you say don't make it true \\n Just '...       en  \n",
              "121039  Yes she's leaving on the train \\n Never coming...       en  \n",
              "177300  Until this moment, love was just a word in a s...       en  "
            ]
          },
          "metadata": {
            "tags": []
          },
          "execution_count": 19
        }
      ]
    },
    {
      "metadata": {
        "id": "DA-jFuqBolg-",
        "colab_type": "code",
        "outputId": "7cfae575-ff8c-4730-a6b8-ae125d8318b6",
        "colab": {
          "base_uri": "https://localhost:8080/",
          "height": 141
        }
      },
      "cell_type": "code",
      "source": [
        "y_train"
      ],
      "execution_count": 20,
      "outputs": [
        {
          "output_type": "execute_result",
          "data": {
            "text/plain": [
              "array([[0., 0., 0., ..., 0., 0., 1.],\n",
              "       [0., 0., 0., ..., 0., 0., 1.],\n",
              "       [0., 0., 0., ..., 0., 0., 1.],\n",
              "       ...,\n",
              "       [0., 0., 0., ..., 1., 0., 0.],\n",
              "       [0., 0., 0., ..., 1., 0., 0.],\n",
              "       [0., 0., 0., ..., 0., 0., 1.]], dtype=float32)"
            ]
          },
          "metadata": {
            "tags": []
          },
          "execution_count": 20
        }
      ]
    },
    {
      "metadata": {
        "id": "vBct6xZZ3JAt",
        "colab_type": "text"
      },
      "cell_type": "markdown",
      "source": [
        "#2 Preprocessing "
      ]
    },
    {
      "metadata": {
        "id": "o8Z3B_97kH9v",
        "colab_type": "text"
      },
      "cell_type": "markdown",
      "source": [
        "##2.1 Word Embeddings\n"
      ]
    },
    {
      "metadata": {
        "id": "HUlK981Fkm3Z",
        "colab_type": "text"
      },
      "cell_type": "markdown",
      "source": [
        "###2.1.1 Tokenizer"
      ]
    },
    {
      "metadata": {
        "id": "xZrKvR97chn3",
        "colab_type": "text"
      },
      "cell_type": "markdown",
      "source": [
        "Usamos el tokenizer de keras para crear una represetacion vectorial de las letras de las canciones."
      ]
    },
    {
      "metadata": {
        "id": "tWxhPTqrk9R4",
        "colab_type": "code",
        "outputId": "7c4ab4e8-6ff2-495d-87e9-4811310b5d8a",
        "colab": {
          "base_uri": "https://localhost:8080/",
          "height": 34
        }
      },
      "cell_type": "code",
      "source": [
        "from keras.preprocessing.text import Tokenizer\n",
        "\n",
        "num_words=20000\n",
        "tokenizer = Tokenizer(num_words=num_words,filters='!\"\\'#$%&()*+,-./:;<=>?@[\\\\]^_`{|}~\\t\\n')\n",
        "tokenizer.fit_on_texts(x_train.lyrics.values)\n",
        "\n",
        "X_train = tokenizer.texts_to_sequences(x_train.lyrics.values)\n",
        "X_test = tokenizer.texts_to_sequences(x_test.lyrics.values)\n",
        "\n",
        "vocabulary_size = len(tokenizer.word_index) + 1\n",
        "vocabulary_size"
      ],
      "execution_count": 21,
      "outputs": [
        {
          "output_type": "execute_result",
          "data": {
            "text/plain": [
              "161764"
            ]
          },
          "metadata": {
            "tags": []
          },
          "execution_count": 21
        }
      ]
    },
    {
      "metadata": {
        "id": "gWQ1GtJClBov",
        "colab_type": "code",
        "outputId": "5b6722b2-179d-43fb-cd2f-151f413fda73",
        "colab": {
          "base_uri": "https://localhost:8080/",
          "height": 143
        }
      },
      "cell_type": "code",
      "source": [
        "print(x_train.lyrics.values[2][:170])\n",
        "print(X_train[2])"
      ],
      "execution_count": 22,
      "outputs": [
        {
          "output_type": "stream",
          "text": [
            "Just 'cuz you say don't make it true \n",
            " Just 'cuz it's over don't mean we're through \n",
            " I know how I feel for you \n",
            " Is my love for you in vain or true? \n",
            " Is my love for you\n",
            "[33, 839, 3, 71, 25, 11, 73, 7, 224, 33, 839, 7, 9, 123, 25, 11, 310, 17, 36, 99, 1, 29, 78, 1, 81, 21, 3, 20, 10, 30, 21, 3, 12, 1543, 100, 224, 20, 10, 30, 21, 3, 12, 1543, 100, 224, 23, 3, 148, 2, 1122, 677, 4, 3, 26, 6, 120, 2392, 23, 11, 7, 22, 497, 1, 113, 259, 110, 23, 11, 3, 141, 2, 578, 448, 39, 5194, 1, 29, 78, 1, 81, 21, 3, 20, 10, 30, 21, 3, 12, 1543, 100, 224, 20, 10, 30, 21, 3, 12, 1543, 100, 224]\n"
          ],
          "name": "stdout"
        }
      ]
    },
    {
      "metadata": {
        "id": "Fl84_rEHbvLw",
        "colab_type": "text"
      },
      "cell_type": "markdown",
      "source": [
        "####2.1.1.1 Estadisticas con el tokenizer"
      ]
    },
    {
      "metadata": {
        "id": "oVJxrArFuRTb",
        "colab_type": "code",
        "outputId": "3bc5c753-1dd1-4950-a0b1-7dae3a1a6385",
        "colab": {
          "base_uri": "https://localhost:8080/",
          "height": 70
        }
      },
      "cell_type": "code",
      "source": [
        "lyrics_size_words = list(map(len, X_train))\n",
        "print(\"Cantidad de palabras promedio: \", sum(lyrics_size_words)/len(lyrics_size_words))\n",
        "print(\"Cantidad maxima de palabras: \", max(lyrics_size_words))\n",
        "print(\"Cantidad minima de palabras: \", min(lyrics_size_words))"
      ],
      "execution_count": 23,
      "outputs": [
        {
          "output_type": "stream",
          "text": [
            "Cantidad de palabras promedio:  238.47573882205688\n",
            "Cantidad maxima de palabras:  6057\n",
            "Cantidad minima de palabras:  0\n"
          ],
          "name": "stdout"
        }
      ]
    },
    {
      "metadata": {
        "id": "JGFa6I8cYZ_4",
        "colab_type": "code",
        "outputId": "0281acdf-1cbd-4d68-9c94-1a189ea4f836",
        "colab": {
          "base_uri": "https://localhost:8080/",
          "height": 362
        }
      },
      "cell_type": "code",
      "source": [
        "plt.hist(lyrics_size_words, 1000, alpha=0.75)\n",
        "plt.title('Distribución del tamaño de las canciones')\n",
        "plt.xlim(0, 800)\n",
        "plt.show()"
      ],
      "execution_count": 24,
      "outputs": [
        {
          "output_type": "display_data",
          "data": {
            "image/png": "[encoded data removed]",
            "text/plain": [
              "<Figure size 576x396 with 1 Axes>"
            ]
          },
          "metadata": {
            "tags": []
          }
        }
      ]
    },
    {
      "metadata": {
        "id": "eo4HrE_A0w5x",
        "colab_type": "text"
      },
      "cell_type": "markdown",
      "source": [
        "####2.1.1.2 Estandarizar el numero de palabrar por cancion."
      ]
    },
    {
      "metadata": {
        "id": "JIRsUK9vc20U",
        "colab_type": "text"
      },
      "cell_type": "markdown",
      "source": [
        "Por facilidad dejaremos todas las letras de las canciones con el mismo numero de palabras. Como el promedio de palabras por cancion es 229 dejaremos el tamaño de 250"
      ]
    },
    {
      "metadata": {
        "id": "g52hhX5LCb1j",
        "colab_type": "code",
        "outputId": "e6632d14-b2f8-4396-fb5c-a231d64411b0",
        "colab": {
          "base_uri": "https://localhost:8080/",
          "height": 621
        }
      },
      "cell_type": "code",
      "source": [
        "from keras.preprocessing.sequence import pad_sequences\n",
        "\n",
        "maxlen=300\n",
        "\n",
        "X_train = pad_sequences(X_train, padding='post', maxlen=maxlen)\n",
        "X_test = pad_sequences(X_test, padding='post', maxlen=maxlen)\n",
        "\n",
        "print(x_train.lyrics.values[2][:])\n",
        "print(X_train[2])"
      ],
      "execution_count": 25,
      "outputs": [
        {
          "output_type": "stream",
          "text": [
            "Just 'cuz you say don't make it true \n",
            " Just 'cuz it's over don't mean we're through \n",
            " I know how I feel for you \n",
            " Is my love for you in vain or true? \n",
            " Is my love for you in vain or true? \n",
            " Can you hear the voices singing to you? \n",
            " With a little patience can't it be cool? \n",
            " I still remember why can't you? \n",
            " Into the darkness born now anew \n",
            " I know how I feel for you \n",
            " Is my love for you in vain or true? \n",
            " Is my love for you in vain or true?\n",
            "[  33  839    3   71   25   11   73    7  224   33  839    7    9  123\n",
            "   25   11  310   17   36   99    1   29   78    1   81   21    3   20\n",
            "   10   30   21    3   12 1543  100  224   20   10   30   21    3   12\n",
            " 1543  100  224   23    3  148    2 1122  677    4    3   26    6  120\n",
            " 2392   23   11    7   22  497    1  113  259  110   23   11    3  141\n",
            "    2  578  448   39 5194    1   29   78    1   81   21    3   20   10\n",
            "   30   21    3   12 1543  100  224   20   10   30   21    3   12 1543\n",
            "  100  224    0    0    0    0    0    0    0    0    0    0    0    0\n",
            "    0    0    0    0    0    0    0    0    0    0    0    0    0    0\n",
            "    0    0    0    0    0    0    0    0    0    0    0    0    0    0\n",
            "    0    0    0    0    0    0    0    0    0    0    0    0    0    0\n",
            "    0    0    0    0    0    0    0    0    0    0    0    0    0    0\n",
            "    0    0    0    0    0    0    0    0    0    0    0    0    0    0\n",
            "    0    0    0    0    0    0    0    0    0    0    0    0    0    0\n",
            "    0    0    0    0    0    0    0    0    0    0    0    0    0    0\n",
            "    0    0    0    0    0    0    0    0    0    0    0    0    0    0\n",
            "    0    0    0    0    0    0    0    0    0    0    0    0    0    0\n",
            "    0    0    0    0    0    0    0    0    0    0    0    0    0    0\n",
            "    0    0    0    0    0    0    0    0    0    0    0    0    0    0\n",
            "    0    0    0    0    0    0    0    0    0    0    0    0    0    0\n",
            "    0    0    0    0    0    0    0    0    0    0    0    0    0    0\n",
            "    0    0    0    0    0    0]\n"
          ],
          "name": "stdout"
        }
      ]
    },
    {
      "metadata": {
        "id": "YQwZQIY77P3P",
        "colab_type": "text"
      },
      "cell_type": "markdown",
      "source": [
        "###2.1.2 Embedding Layer\n",
        "\n",
        "Con las palabras tokenizadas procedemos a hacer el word embeddings. Para esto usaremos una capa que nos proporciona Keras."
      ]
    },
    {
      "metadata": {
        "id": "SXkwZ67d7L8A",
        "colab_type": "text"
      },
      "cell_type": "markdown",
      "source": [
        "####2.1.1.1 GloVe\n",
        "Para tener una mejor Word Embedding decidimos usar word embedding precalculado para iniciar. "
      ]
    },
    {
      "metadata": {
        "id": "cXb4Yior7QBS",
        "colab_type": "code",
        "colab": {
          "base_uri": "https://localhost:8080/",
          "height": 372
        },
        "outputId": "fc183762-ce5f-4580-813a-fb2e0f4fd63e"
      },
      "cell_type": "code",
      "source": [
        "!wget http://nlp.stanford.edu/data/glove.6B.zip\n",
        "!unzip glove*.zip"
      ],
      "execution_count": 26,
      "outputs": [
        {
          "output_type": "stream",
          "text": [
            "--2019-02-27 15:50:33--  http://nlp.stanford.edu/data/glove.6B.zip\n",
            "Resolving nlp.stanford.edu (nlp.stanford.edu)... 171.64.67.140\n",
            "Connecting to nlp.stanford.edu (nlp.stanford.edu)|171.64.67.140|:80... connected.\n",
            "HTTP request sent, awaiting response... 302 Found\n",
            "Location: https://nlp.stanford.edu/data/glove.6B.zip [following]\n",
            "--2019-02-27 15:50:33--  https://nlp.stanford.edu/data/glove.6B.zip\n",
            "Connecting to nlp.stanford.edu (nlp.stanford.edu)|171.64.67.140|:443... connected.\n",
            "HTTP request sent, awaiting response... 200 OK\n",
            "Length: 862182613 (822M) [application/zip]\n",
            "Saving to: ‘glove.6B.zip’\n",
            "\n",
            "glove.6B.zip        100%[===================>] 822.24M  3.02MB/s    in 5m 13s  \n",
            "\n",
            "2019-02-27 15:55:47 (2.63 MB/s) - ‘glove.6B.zip’ saved [862182613/862182613]\n",
            "\n",
            "Archive:  glove.6B.zip\n",
            "  inflating: glove.6B.50d.txt        \n",
            "  inflating: glove.6B.100d.txt       \n",
            "  inflating: glove.6B.200d.txt       \n",
            "  inflating: glove.6B.300d.txt       \n"
          ],
          "name": "stdout"
        }
      ]
    },
    {
      "metadata": {
        "id": "YR_uiLV-bKFi",
        "colab_type": "code",
        "colab": {}
      },
      "cell_type": "code",
      "source": [
        "embedding_dim = 100\n",
        "embedding_matrix = np.zeros((vocabulary_size, embedding_dim))\n",
        "\n",
        "with open('/content/glove.6B.100d.txt') as f:\n",
        "  for line in f:\n",
        "    word, *vector = line.split()\n",
        "    if word in tokenizer.word_index:\n",
        "      idx = tokenizer.word_index[word]\n",
        "      embedding_matrix[idx] = np.array(vector, dtype=np.float32)"
      ],
      "execution_count": 0,
      "outputs": []
    },
    {
      "metadata": {
        "id": "rxWfUm4nhDXD",
        "colab_type": "code",
        "outputId": "61886afb-e7d8-420d-e029-6d3e2f6ed8e7",
        "colab": {
          "base_uri": "https://localhost:8080/",
          "height": 283
        }
      },
      "cell_type": "code",
      "source": [
        "tmp = np.where(np.count_nonzero(embedding_matrix, axis=1)==0 )[0][1:]-1\n",
        "print(\"Numero de palabras no encontradas en GloVe:\",len(tmp))\n",
        "print(\"Primeras 100 palabras no encontradas:\", np.array(list(tokenizer.word_index.keys()))[tmp[:100]])"
      ],
      "execution_count": 28,
      "outputs": [
        {
          "output_type": "stream",
          "text": [
            "Numero de palabras no encontradas en GloVe: 82472\n",
            "Primeras 100 palabras no encontradas: ['motherfuckin' 'motherfucking' 'knowin' 'hadn' 'muthafuckin' 'youve'\n",
            " 'wonderin' 'showin' 'countin' 'muthafucka' 'finna' 'lettin' 'prayin'\n",
            " 'listenin' 'starin' 'grindin' 'aight' 'dibby' 'touchin' 'aiyyo' 'thuggin'\n",
            " 'suckin' 'breathin' 'whippin' 'speakin' 'catchin' 'shits' 'gunna' 'gyal'\n",
            " 'wantin' 'ringin' 'stuntin' 'shittin' 'hearin' 'flowin' 'buyin' 'whoah'\n",
            " 'titties' 'floatin' 'mothafuckin' 'reppin' 'winnin' 'pourin' 'illest'\n",
            " 'drippin' 'bwoy' 'hidin' 'stressin' 'â¦' 'evenin' 'ã¢' 'crawlin'\n",
            " 'spendin' 'blastin' 'muthafuckas' 'suckas' 'stackin' 'whatchu' 'slangin'\n",
            " 'bleedin' 'killas' 'mothafucka' 'rubbin' 'buildin' 'bouncin' 'rybody'\n",
            " 'tickin' 'flashin' 'fillin' 'oohh' 'sendin' 'turnt' 'prolly' 'trynna'\n",
            " 'representin' 'wildin' 'climbin' 'needin' 'duckin' 'everythin' 'hummin'\n",
            " 'tatted' 'grippin' 'claimin' 'realer' 'trigga' 'dissin' 'flexin'\n",
            " 'rything' 'ohhhhh' 'peepin' 'wooh' 'motherfuck' 'lames' 'mothafuckas'\n",
            " 'everythings' 'flossin' 'hunned' 'yippy' 'clit']\n"
          ],
          "name": "stdout"
        }
      ]
    },
    {
      "metadata": {
        "id": "Oq8r2QhhdmF_",
        "colab_type": "code",
        "outputId": "78fba579-21c4-44cc-d94f-81d1067c9d5e",
        "colab": {
          "base_uri": "https://localhost:8080/",
          "height": 52
        }
      },
      "cell_type": "code",
      "source": [
        "print(\"% de parabras encontradas en el vocabulario:\",100*np.count_nonzero(np.count_nonzero(embedding_matrix, axis=1)) / vocabulary_size)\n",
        "print(\"% de parabras encontradas en el numero de palabras usadas:\",100*np.count_nonzero(np.count_nonzero(embedding_matrix[:num_words], axis=1)) / num_words)"
      ],
      "execution_count": 29,
      "outputs": [
        {
          "output_type": "stream",
          "text": [
            "% de parabras encontradas en el vocabulario: 49.01646843549863\n",
            "% de parabras encontradas en el numero de palabras usadas: 95.485\n"
          ],
          "name": "stdout"
        }
      ]
    },
    {
      "metadata": {
        "id": "Q21m0VrNyOPA",
        "colab_type": "text"
      },
      "cell_type": "markdown",
      "source": [
        "#3 Convolutional Neural Network (CNN)\n",
        "\n",
        "Nuestro primer intento para clasificar es una CNN. Este tipo de redes se ha destacado por su gran rendimiento en el analisis de imagenes, tambien ha mostrado un gran potencial para la clasificacion de texto [(Yoom Kim.,2014) ](http://emnlp2014.org/papers/pdf/EMNLP2014181.pdf)."
      ]
    },
    {
      "metadata": {
        "id": "yZs30Oeo0gze",
        "colab_type": "code",
        "colab": {}
      },
      "cell_type": "code",
      "source": [
        "from keras.models import Sequential\n",
        "from keras.layers import Embedding, Conv1D, MaxPooling1D, Dropout, Dense, Flatten\n",
        "\n",
        "def plot_history(history):\n",
        "    acc = history.history['acc']\n",
        "    val_acc = history.history['val_acc']\n",
        "    loss = history.history['loss']\n",
        "    val_loss = history.history['val_loss']\n",
        "    x = range(1, len(acc) + 1)\n",
        "\n",
        "    plt.figure(figsize=(12, 5))\n",
        "    plt.subplot(1, 2, 1)\n",
        "    plt.plot(x, acc, 'b', label='Training acc')\n",
        "    plt.plot(x, val_acc, 'r', label='Validation acc')\n",
        "    plt.title('Training and validation accuracy')\n",
        "    plt.legend()\n",
        "    plt.subplot(1, 2, 2)\n",
        "    plt.plot(x, loss, 'b', label='Training loss')\n",
        "    plt.plot(x, val_loss, 'r', label='Validation loss')\n",
        "    plt.title('Training and validation loss')\n",
        "    plt.legend()"
      ],
      "execution_count": 0,
      "outputs": []
    },
    {
      "metadata": {
        "id": "cOcSs3_o00C9",
        "colab_type": "text"
      },
      "cell_type": "markdown",
      "source": [
        "##3.1 Arquitectura\n",
        "Dado nuestra perspicacia y experiencia en redes neuronales decidimos tomar inspiracion de varios tutoriales de internet. Esta arquitectura en particular la encontramos [aqui](http://fnl.es/a-sober-perspective-on-deep-learning.html).\n"
      ]
    },
    {
      "metadata": {
        "id": "IQiMH0E10jUB",
        "colab_type": "code",
        "outputId": "04b1b67f-c451-421a-e3a5-bc8295e2b405",
        "colab": {
          "base_uri": "https://localhost:8080/",
          "height": 623
        }
      },
      "cell_type": "code",
      "source": [
        "model = Sequential()\n",
        "model.add(Embedding(vocabulary_size, embedding_dim, weights=[embedding_matrix], \n",
        "                           input_length=maxlen, trainable=True))\n",
        "model.add(Conv1D(embedding_dim, 5, activation='relu'))\n",
        "model.add(MaxPooling1D(5))\n",
        "model.add(Conv1D(embedding_dim, 5, activation='relu'))\n",
        "model.add(MaxPooling1D(5))\n",
        "model.add(Conv1D(embedding_dim, 5, activation='relu'))\n",
        "model.add(Dropout(0.5))\n",
        "model.add(MaxPooling1D(5))\n",
        "model.add(Flatten())\n",
        "model.add(Dense(10, activation='softmax'))\n",
        "model.compile(loss='categorical_crossentropy',\n",
        "              optimizer='rmsprop',\n",
        "              metrics=['acc'])\n",
        "model.summary()"
      ],
      "execution_count": 31,
      "outputs": [
        {
          "output_type": "stream",
          "text": [
            "WARNING:tensorflow:From /usr/local/lib/python3.6/dist-packages/tensorflow/python/framework/op_def_library.py:263: colocate_with (from tensorflow.python.framework.ops) is deprecated and will be removed in a future version.\n",
            "Instructions for updating:\n",
            "Colocations handled automatically by placer.\n",
            "WARNING:tensorflow:From /usr/local/lib/python3.6/dist-packages/keras/backend/tensorflow_backend.py:3445: calling dropout (from tensorflow.python.ops.nn_ops) with keep_prob is deprecated and will be removed in a future version.\n",
            "Instructions for updating:\n",
            "Please use `rate` instead of `keep_prob`. Rate should be set to `rate = 1 - keep_prob`.\n",
            "_________________________________________________________________\n",
            "Layer (type)                 Output Shape              Param #   \n",
            "=================================================================\n",
            "embedding_1 (Embedding)      (None, 300, 100)          16176400  \n",
            "_________________________________________________________________\n",
            "conv1d_1 (Conv1D)            (None, 296, 100)          50100     \n",
            "_________________________________________________________________\n",
            "max_pooling1d_1 (MaxPooling1 (None, 59, 100)           0         \n",
            "_________________________________________________________________\n",
            "conv1d_2 (Conv1D)            (None, 55, 100)           50100     \n",
            "_________________________________________________________________\n",
            "max_pooling1d_2 (MaxPooling1 (None, 11, 100)           0         \n",
            "_________________________________________________________________\n",
            "conv1d_3 (Conv1D)            (None, 7, 100)            50100     \n",
            "_________________________________________________________________\n",
            "dropout_1 (Dropout)          (None, 7, 100)            0         \n",
            "_________________________________________________________________\n",
            "max_pooling1d_3 (MaxPooling1 (None, 1, 100)            0         \n",
            "_________________________________________________________________\n",
            "flatten_1 (Flatten)          (None, 100)               0         \n",
            "_________________________________________________________________\n",
            "dense_1 (Dense)              (None, 10)                1010      \n",
            "=================================================================\n",
            "Total params: 16,327,710\n",
            "Trainable params: 16,327,710\n",
            "Non-trainable params: 0\n",
            "_________________________________________________________________\n"
          ],
          "name": "stdout"
        }
      ]
    },
    {
      "metadata": {
        "id": "5Eh-zI8SVaCX",
        "colab_type": "text"
      },
      "cell_type": "markdown",
      "source": [
        "###3.1.1 Analisis de los resutados\n",
        "Con la grafica de perdida podemos notar que el modelo sugre de overfitting haciendo que el modelo no generalice bien para los datos de prueba."
      ]
    },
    {
      "metadata": {
        "id": "u4ezXY8qVhmQ",
        "colab_type": "code",
        "outputId": "60014d63-1a52-4688-b163-d46a371217da",
        "colab": {
          "base_uri": "https://localhost:8080/",
          "height": 994
        }
      },
      "cell_type": "code",
      "source": [
        "history = model.fit(X_train, y_train,\n",
        "                    epochs=15,\n",
        "                    verbose=True,\n",
        "                    validation_data=(X_test, y_test),\n",
        "                    batch_size=32)\n",
        "loss, accuracy = model.evaluate(X_train, y_train, verbose=False)\n",
        "print(\"Training Accuracy: {:.4f}\".format(accuracy))\n",
        "loss, accuracy = model.evaluate(X_test, y_test, verbose=False)\n",
        "print(\"Testing Accuracy:  {:.4f}\".format(accuracy))\n",
        "plot_history(history)"
      ],
      "execution_count": 32,
      "outputs": [
        {
          "output_type": "stream",
          "text": [
            "WARNING:tensorflow:From /usr/local/lib/python3.6/dist-packages/tensorflow/python/ops/math_ops.py:3066: to_int32 (from tensorflow.python.ops.math_ops) is deprecated and will be removed in a future version.\n",
            "Instructions for updating:\n",
            "Use tf.cast instead.\n",
            "Train on 143810 samples, validate on 61634 samples\n",
            "Epoch 1/15\n",
            "143810/143810 [==============================] - 117s 815us/step - loss: 1.3567 - acc: 0.5603 - val_loss: 1.3157 - val_acc: 0.5657\n",
            "Epoch 2/15\n",
            "143810/143810 [==============================] - 113s 787us/step - loss: 1.2803 - acc: 0.5848 - val_loss: 1.5154 - val_acc: 0.4888\n",
            "Epoch 3/15\n",
            "143810/143810 [==============================] - 113s 785us/step - loss: 1.2693 - acc: 0.5919 - val_loss: 1.4299 - val_acc: 0.5486\n",
            "Epoch 4/15\n",
            "143810/143810 [==============================] - 113s 785us/step - loss: 1.2635 - acc: 0.5962 - val_loss: 1.3319 - val_acc: 0.5551\n",
            "Epoch 5/15\n",
            "143810/143810 [==============================] - 113s 782us/step - loss: 1.2591 - acc: 0.6003 - val_loss: 1.3429 - val_acc: 0.5703\n",
            "Epoch 6/15\n",
            "143810/143810 [==============================] - 112s 780us/step - loss: 1.2617 - acc: 0.6026 - val_loss: 1.4688 - val_acc: 0.5767\n",
            "Epoch 7/15\n",
            "143810/143810 [==============================] - 112s 780us/step - loss: 1.2601 - acc: 0.6066 - val_loss: 1.4595 - val_acc: 0.5680\n",
            "Epoch 8/15\n",
            "143810/143810 [==============================] - 112s 780us/step - loss: 1.2626 - acc: 0.6110 - val_loss: 1.4358 - val_acc: 0.5608\n",
            "Epoch 9/15\n",
            "143810/143810 [==============================] - 112s 781us/step - loss: 1.2614 - acc: 0.6152 - val_loss: 1.4294 - val_acc: 0.5538\n",
            "Epoch 10/15\n",
            "143810/143810 [==============================] - 112s 782us/step - loss: 1.2515 - acc: 0.6201 - val_loss: 1.4867 - val_acc: 0.5468\n",
            "Epoch 11/15\n",
            "143810/143810 [==============================] - 112s 780us/step - loss: 1.2407 - acc: 0.6245 - val_loss: 1.5117 - val_acc: 0.5680\n",
            "Epoch 12/15\n",
            "143810/143810 [==============================] - 112s 782us/step - loss: 1.2400 - acc: 0.6293 - val_loss: 1.4832 - val_acc: 0.5640\n",
            "Epoch 13/15\n",
            "143810/143810 [==============================] - 112s 778us/step - loss: 1.2348 - acc: 0.6338 - val_loss: 1.7082 - val_acc: 0.5514\n",
            "Epoch 14/15\n",
            "143810/143810 [==============================] - 112s 780us/step - loss: 1.2273 - acc: 0.6416 - val_loss: 1.5790 - val_acc: 0.5748\n",
            "Epoch 15/15\n",
            "143810/143810 [==============================] - 112s 780us/step - loss: 1.2176 - acc: 0.6474 - val_loss: 1.5322 - val_acc: 0.5632\n",
            "Training Accuracy: 0.6232\n",
            "Testing Accuracy:  0.5632\n"
          ],
          "name": "stdout"
        },
        {
          "output_type": "display_data",
          "data": {
            "image/png": "[encoded data removed]",
            "text/plain": [
              "<Figure size 864x360 with 2 Axes>"
            ]
          },
          "metadata": {
            "tags": []
          }
        }
      ]
    },
    {
      "metadata": {
        "id": "B6v9cW8-X6l9",
        "colab_type": "text"
      },
      "cell_type": "markdown",
      "source": [
        "###3.1.2 Overfitting\n"
      ]
    },
    {
      "metadata": {
        "id": "mxl_07cgct-K",
        "colab_type": "text"
      },
      "cell_type": "markdown",
      "source": [
        "####3.1.2.1 Dropout Layers\n",
        "Para disminuir el overfitting por lo general se usa capas de Dropout. Vamos a poner una capa de Dropout por cada capa de convolución. Tambien se campio el optimizador de *rmsprop* a *adam* ya que encontramos que funciona mejor en la mayoria de casos."
      ]
    },
    {
      "metadata": {
        "id": "YpHaoFEE7O2T",
        "colab_type": "code",
        "outputId": "6498b82a-fca5-4ca0-8a33-b8c436f64de6",
        "colab": {
          "base_uri": "https://localhost:8080/",
          "height": 692
        }
      },
      "cell_type": "code",
      "source": [
        "model = Sequential()\n",
        "model.add(Embedding(vocabulary_size, embedding_dim, weights=[embedding_matrix], \n",
        "                           input_length=maxlen, trainable=True))\n",
        "model.add(Conv1D(embedding_dim, 5, activation='relu'))\n",
        "model.add(Dropout(0.4))\n",
        "model.add(MaxPooling1D(5))\n",
        "model.add(Conv1D(embedding_dim, 5, activation='relu'))\n",
        "model.add(Dropout(0.4))\n",
        "model.add(MaxPooling1D(5))\n",
        "model.add(Conv1D(embedding_dim, 5, activation='relu'))\n",
        "model.add(Dropout(0.4))\n",
        "model.add(MaxPooling1D(5))\n",
        "model.add(Flatten())\n",
        "model.add(Dense(10, activation='softmax'))\n",
        "model.compile(loss='categorical_crossentropy',\n",
        "              optimizer='adam',\n",
        "              metrics=['acc'])\n",
        "model.summary()\n",
        "\n",
        "history = model.fit(X_train, y_train,\n",
        "                    epochs=15,\n",
        "                    verbose=True,\n",
        "                    validation_data=(X_test, y_test),\n",
        "                    batch_size=32)\n",
        "loss, accuracy = model.evaluate(X_train, y_train, verbose=False)\n",
        "print(\"Training Accuracy: {:.4f}\".format(accuracy))\n",
        "loss, accuracy = model.evaluate(X_test, y_test, verbose=False)\n",
        "print(\"Testing Accuracy:  {:.4f}\".format(accuracy))\n",
        "plot_history(history)"
      ],
      "execution_count": 0,
      "outputs": [
        {
          "output_type": "stream",
          "text": [
            "_________________________________________________________________\n",
            "Layer (type)                 Output Shape              Param #   \n",
            "=================================================================\n",
            "embedding_10 (Embedding)     (None, 300, 100)          16176400  \n",
            "_________________________________________________________________\n",
            "conv1d_21 (Conv1D)           (None, 296, 100)          50100     \n",
            "_________________________________________________________________\n",
            "dropout_19 (Dropout)         (None, 296, 100)          0         \n",
            "_________________________________________________________________\n",
            "max_pooling1d_21 (MaxPooling (None, 59, 100)           0         \n",
            "_________________________________________________________________\n",
            "conv1d_22 (Conv1D)           (None, 55, 100)           50100     \n",
            "_________________________________________________________________\n",
            "dropout_20 (Dropout)         (None, 55, 100)           0         \n",
            "_________________________________________________________________\n",
            "max_pooling1d_22 (MaxPooling (None, 11, 100)           0         \n",
            "_________________________________________________________________\n",
            "conv1d_23 (Conv1D)           (None, 7, 100)            50100     \n",
            "_________________________________________________________________\n",
            "dropout_21 (Dropout)         (None, 7, 100)            0         \n",
            "_________________________________________________________________\n",
            "max_pooling1d_23 (MaxPooling (None, 1, 100)            0         \n",
            "_________________________________________________________________\n",
            "flatten_9 (Flatten)          (None, 100)               0         \n",
            "_________________________________________________________________\n",
            "dense_9 (Dense)              (None, 10)                1010      \n",
            "=================================================================\n",
            "Total params: 16,327,710\n",
            "Trainable params: 16,327,710\n",
            "Non-trainable params: 0\n",
            "_________________________________________________________________\n",
            "Train on 143810 samples, validate on 61634 samples\n",
            "Epoch 1/15\n",
            "143810/143810 [==============================] - 137s 955us/step - loss: 1.3505 - acc: 0.5616 - val_loss: 1.5227 - val_acc: 0.5803\n",
            "Epoch 2/15\n",
            "143810/143810 [==============================] - 136s 945us/step - loss: 1.2337 - acc: 0.5919 - val_loss: 1.4323 - val_acc: 0.5624\n",
            "Epoch 3/15\n",
            "  8096/143810 [>.............................] - ETA: 2:01 - loss: 1.2025 - acc: 0.6023"
          ],
          "name": "stdout"
        }
      ]
    },
    {
      "metadata": {
        "id": "lengcZ7yAuOn",
        "colab_type": "text"
      },
      "cell_type": "markdown",
      "source": [
        "Aunque mejoro un poco el *Accuracy*  y el *loss* del grupo de prueba ayudando a disminuir el overfitting, se sigue teniendo demasiado overfitting."
      ]
    },
    {
      "metadata": {
        "id": "wJdcK4T_CUHC",
        "colab_type": "text"
      },
      "cell_type": "markdown",
      "source": [
        "#### 3.1.2.2 Weight Decay\n",
        "Otro famoso metodo para disminuir el overfitting es el *Weight Decay* que implica penalizar los pesos despues de cada actualización con un numero menor y muy cercano a 1. En la literatura por lo general se escoge un *Weight Decay* de 0.0005 o cercano a este."
      ]
    },
    {
      "metadata": {
        "id": "UOknoT5irR0Q",
        "colab_type": "code",
        "outputId": "78ee52f5-61c3-4636-f37d-d95ca4d69fa7",
        "colab": {
          "base_uri": "https://localhost:8080/",
          "height": 1472
        }
      },
      "cell_type": "code",
      "source": [
        "from keras.regularizers import l2\n",
        "\n",
        "model = Sequential()\n",
        "model.add(Embedding(vocabulary_size, embedding_dim, weights=[embedding_matrix], \n",
        "                           input_length=maxlen, trainable=True))\n",
        "model.add(Conv1D(embedding_dim, 5, kernel_regularizer=l2(0.00025), activation='relu'))\n",
        "model.add(Dropout(0.4))\n",
        "model.add(MaxPooling1D(5))\n",
        "model.add(Conv1D(embedding_dim, 5, kernel_regularizer=l2(0.00025), activation='relu'))\n",
        "model.add(Dropout(0.4))\n",
        "model.add(MaxPooling1D(5))\n",
        "model.add(Conv1D(embedding_dim, 5, kernel_regularizer=l2(0.00025), activation='relu'))\n",
        "model.add(Dropout(0.4))\n",
        "model.add(MaxPooling1D(5))\n",
        "model.add(Flatten())\n",
        "model.add(Dense(10, activation='softmax'))\n",
        "model.compile(loss='categorical_crossentropy',\n",
        "              optimizer='adam',\n",
        "              metrics=['acc'])\n",
        "model.summary()\n",
        "\n",
        "history = model.fit(X_train, y_train,\n",
        "                    epochs=15,\n",
        "                    verbose=True,\n",
        "                    validation_data=(X_test, y_test),\n",
        "                    batch_size=32)\n",
        "loss, accuracy = model.evaluate(X_train, y_train, verbose=False)\n",
        "print(\"Training Accuracy: {:.4f}\".format(accuracy))\n",
        "loss, accuracy = model.evaluate(X_test, y_test, verbose=False)\n",
        "print(\"Testing Accuracy:  {:.4f}\".format(accuracy))\n",
        "plot_history(history)"
      ],
      "execution_count": 41,
      "outputs": [
        {
          "output_type": "stream",
          "text": [
            "_________________________________________________________________\n",
            "Layer (type)                 Output Shape              Param #   \n",
            "=================================================================\n",
            "embedding_9 (Embedding)      (None, 300, 100)          16176400  \n",
            "_________________________________________________________________\n",
            "conv1d_18 (Conv1D)           (None, 296, 100)          50100     \n",
            "_________________________________________________________________\n",
            "dropout_16 (Dropout)         (None, 296, 100)          0         \n",
            "_________________________________________________________________\n",
            "max_pooling1d_18 (MaxPooling (None, 59, 100)           0         \n",
            "_________________________________________________________________\n",
            "conv1d_19 (Conv1D)           (None, 55, 100)           50100     \n",
            "_________________________________________________________________\n",
            "dropout_17 (Dropout)         (None, 55, 100)           0         \n",
            "_________________________________________________________________\n",
            "max_pooling1d_19 (MaxPooling (None, 11, 100)           0         \n",
            "_________________________________________________________________\n",
            "conv1d_20 (Conv1D)           (None, 7, 100)            50100     \n",
            "_________________________________________________________________\n",
            "dropout_18 (Dropout)         (None, 7, 100)            0         \n",
            "_________________________________________________________________\n",
            "max_pooling1d_20 (MaxPooling (None, 1, 100)            0         \n",
            "_________________________________________________________________\n",
            "flatten_8 (Flatten)          (None, 100)               0         \n",
            "_________________________________________________________________\n",
            "dense_8 (Dense)              (None, 10)                1010      \n",
            "=================================================================\n",
            "Total params: 16,327,710\n",
            "Trainable params: 16,327,710\n",
            "Non-trainable params: 0\n",
            "_________________________________________________________________\n",
            "Train on 143810 samples, validate on 61634 samples\n",
            "Epoch 1/15\n",
            "143810/143810 [==============================] - 140s 975us/step - loss: 1.4038 - acc: 0.5611 - val_loss: 1.5420 - val_acc: 0.5622\n",
            "Epoch 2/15\n",
            "143810/143810 [==============================] - 139s 966us/step - loss: 1.2704 - acc: 0.5919 - val_loss: 1.4745 - val_acc: 0.5728\n",
            "Epoch 3/15\n",
            "143810/143810 [==============================] - 139s 965us/step - loss: 1.2198 - acc: 0.6071 - val_loss: 1.4516 - val_acc: 0.5754\n",
            "Epoch 4/15\n",
            "143810/143810 [==============================] - 139s 964us/step - loss: 1.1838 - acc: 0.6193 - val_loss: 1.3943 - val_acc: 0.5752\n",
            "Epoch 5/15\n",
            "143810/143810 [==============================] - 139s 963us/step - loss: 1.1516 - acc: 0.6310 - val_loss: 1.4103 - val_acc: 0.5699\n",
            "Epoch 6/15\n",
            "143810/143810 [==============================] - 138s 963us/step - loss: 1.1256 - acc: 0.6401 - val_loss: 1.4178 - val_acc: 0.5711\n",
            "Epoch 7/15\n",
            "143810/143810 [==============================] - 138s 962us/step - loss: 1.0957 - acc: 0.6517 - val_loss: 1.3585 - val_acc: 0.5788\n",
            "Epoch 8/15\n",
            "143810/143810 [==============================] - 138s 963us/step - loss: 1.0735 - acc: 0.6587 - val_loss: 1.3582 - val_acc: 0.5857\n",
            "Epoch 9/15\n",
            "143810/143810 [==============================] - 138s 962us/step - loss: 1.0484 - acc: 0.6672 - val_loss: 1.3461 - val_acc: 0.5834\n",
            "Epoch 10/15\n",
            "143810/143810 [==============================] - 138s 963us/step - loss: 1.0238 - acc: 0.6765 - val_loss: 1.3358 - val_acc: 0.5712\n",
            "Epoch 11/15\n",
            "143810/143810 [==============================] - 138s 962us/step - loss: 1.0014 - acc: 0.6834 - val_loss: 1.3381 - val_acc: 0.5833\n",
            "Epoch 12/15\n",
            "143810/143810 [==============================] - 138s 962us/step - loss: 0.9761 - acc: 0.6926 - val_loss: 1.3426 - val_acc: 0.5940\n",
            "Epoch 13/15\n",
            "143810/143810 [==============================] - 138s 962us/step - loss: 0.9518 - acc: 0.7008 - val_loss: 1.3348 - val_acc: 0.5816\n",
            "Epoch 14/15\n",
            "143810/143810 [==============================] - 138s 960us/step - loss: 0.9318 - acc: 0.7083 - val_loss: 1.3254 - val_acc: 0.5945\n",
            "Epoch 15/15\n",
            "143810/143810 [==============================] - 138s 962us/step - loss: 0.9064 - acc: 0.7158 - val_loss: 1.3431 - val_acc: 0.5817\n",
            "Training Accuracy: 0.6844\n",
            "Testing Accuracy:  0.5817\n"
          ],
          "name": "stdout"
        },
        {
          "output_type": "display_data",
          "data": {
            "image/png": "[encoded data removed]",
            "text/plain": [
              "<Figure size 864x360 with 2 Axes>"
            ]
          },
          "metadata": {
            "tags": []
          }
        }
      ]
    },
    {
      "metadata": {
        "id": "uptMbNYSo3Xh",
        "colab_type": "text"
      },
      "cell_type": "markdown",
      "source": [
        "Aunque evito que la red memorizara muy rapido el conjuto de entrenamiento, se sigue presentando el overfitting."
      ]
    },
    {
      "metadata": {
        "id": "VdbEGxpIpZGi",
        "colab_type": "text"
      },
      "cell_type": "markdown",
      "source": [
        "#### 3.1.2.3 Arquitectura\n",
        "Auque se presenten mejoras con los 2 metodos anteriores, estas son poco significativas y dejandonos pocas opciones para poder ajustar el overfitting.\n",
        "\n",
        "El overfitting se puede presentar por la propia arquitectura de la red, puede que la red sea muy grande para el problema y los datos, con esto en mente se eliminara una capa de convolución."
      ]
    },
    {
      "metadata": {
        "id": "sxs68_hHqmkN",
        "colab_type": "code",
        "outputId": "12693fb9-bbe6-4ec2-c036-1d5b80e9af5a",
        "colab": {
          "base_uri": "https://localhost:8080/",
          "height": 461
        }
      },
      "cell_type": "code",
      "source": [
        "model = Sequential()\n",
        "model.add(Embedding(vocabulary_size, embedding_dim, weights=[embedding_matrix], \n",
        "                           input_length=maxlen, trainable=True))\n",
        "model.add(Conv1D(embedding_dim, 5, kernel_regularizer=l2(0.00025), activation='relu'))\n",
        "model.add(Dropout(0.5))\n",
        "model.add(MaxPooling1D(5))\n",
        "model.add(Conv1D(embedding_dim, 5, kernel_regularizer=l2(0.00025), activation='relu'))\n",
        "model.add(Dropout(0.5))\n",
        "model.add(MaxPooling1D(11))\n",
        "model.add(Flatten())\n",
        "model.add(Dense(10, activation='softmax'))\n",
        "model.compile(loss='categorical_crossentropy',\n",
        "              optimizer='adam',\n",
        "              metrics=['acc'])\n",
        "model.summary()"
      ],
      "execution_count": 39,
      "outputs": [
        {
          "output_type": "stream",
          "text": [
            "_________________________________________________________________\n",
            "Layer (type)                 Output Shape              Param #   \n",
            "=================================================================\n",
            "embedding_8 (Embedding)      (None, 300, 100)          16176400  \n",
            "_________________________________________________________________\n",
            "conv1d_16 (Conv1D)           (None, 296, 100)          50100     \n",
            "_________________________________________________________________\n",
            "dropout_14 (Dropout)         (None, 296, 100)          0         \n",
            "_________________________________________________________________\n",
            "max_pooling1d_16 (MaxPooling (None, 59, 100)           0         \n",
            "_________________________________________________________________\n",
            "conv1d_17 (Conv1D)           (None, 55, 100)           50100     \n",
            "_________________________________________________________________\n",
            "dropout_15 (Dropout)         (None, 55, 100)           0         \n",
            "_________________________________________________________________\n",
            "max_pooling1d_17 (MaxPooling (None, 5, 100)            0         \n",
            "_________________________________________________________________\n",
            "flatten_7 (Flatten)          (None, 500)               0         \n",
            "_________________________________________________________________\n",
            "dense_7 (Dense)              (None, 10)                5010      \n",
            "=================================================================\n",
            "Total params: 16,281,610\n",
            "Trainable params: 16,281,610\n",
            "Non-trainable params: 0\n",
            "_________________________________________________________________\n"
          ],
          "name": "stdout"
        }
      ]
    },
    {
      "metadata": {
        "id": "BiXdTmDOfFEy",
        "colab_type": "code",
        "outputId": "89325ff3-0bb2-4e3a-8237-b685ef35bb49",
        "colab": {
          "base_uri": "https://localhost:8080/",
          "height": 921
        }
      },
      "cell_type": "code",
      "source": [
        "history = model.fit(X_train, y_train,\n",
        "                    epochs=15,\n",
        "                    verbose=True,\n",
        "                    validation_data=(X_test, y_test),\n",
        "                    batch_size=32)\n",
        "loss, accuracy = model.evaluate(X_train, y_train, verbose=False)\n",
        "print(\"Training Accuracy: {:.4f}\".format(accuracy))\n",
        "loss, accuracy = model.evaluate(X_test, y_test, verbose=False)\n",
        "print(\"Testing Accuracy:  {:.4f}\".format(accuracy))\n",
        "plot_history(history)"
      ],
      "execution_count": 40,
      "outputs": [
        {
          "output_type": "stream",
          "text": [
            "Train on 143810 samples, validate on 61634 samples\n",
            "Epoch 1/15\n",
            "143810/143810 [==============================] - 136s 947us/step - loss: 1.3962 - acc: 0.5600 - val_loss: 1.5649 - val_acc: 0.5833\n",
            "Epoch 2/15\n",
            "143810/143810 [==============================] - 135s 939us/step - loss: 1.2663 - acc: 0.5917 - val_loss: 1.4675 - val_acc: 0.5892\n",
            "Epoch 3/15\n",
            "143810/143810 [==============================] - 137s 949us/step - loss: 1.2148 - acc: 0.6066 - val_loss: 1.4539 - val_acc: 0.5940\n",
            "Epoch 4/15\n",
            "143810/143810 [==============================] - 138s 960us/step - loss: 1.1812 - acc: 0.6178 - val_loss: 1.4235 - val_acc: 0.5973\n",
            "Epoch 5/15\n",
            "143810/143810 [==============================] - 136s 948us/step - loss: 1.1483 - acc: 0.6285 - val_loss: 1.4012 - val_acc: 0.5981\n",
            "Epoch 6/15\n",
            "143810/143810 [==============================] - 134s 930us/step - loss: 1.1241 - acc: 0.6367 - val_loss: 1.3933 - val_acc: 0.5955\n",
            "Epoch 7/15\n",
            "143810/143810 [==============================] - 133s 927us/step - loss: 1.0988 - acc: 0.6446 - val_loss: 1.3862 - val_acc: 0.5983\n",
            "Epoch 8/15\n",
            "143810/143810 [==============================] - 133s 926us/step - loss: 1.0762 - acc: 0.6522 - val_loss: 1.3658 - val_acc: 0.5943\n",
            "Epoch 9/15\n",
            "143810/143810 [==============================] - 133s 925us/step - loss: 1.0515 - acc: 0.6608 - val_loss: 1.3582 - val_acc: 0.5900\n",
            "Epoch 10/15\n",
            "143810/143810 [==============================] - 133s 925us/step - loss: 1.0299 - acc: 0.6669 - val_loss: 1.3656 - val_acc: 0.5882\n",
            "Epoch 11/15\n",
            "143810/143810 [==============================] - 133s 923us/step - loss: 1.0103 - acc: 0.6736 - val_loss: 1.3674 - val_acc: 0.5880\n",
            "Epoch 12/15\n",
            "143810/143810 [==============================] - 133s 927us/step - loss: 0.9865 - acc: 0.6816 - val_loss: 1.3487 - val_acc: 0.5951\n",
            "Epoch 13/15\n",
            "143810/143810 [==============================] - 133s 924us/step - loss: 0.9625 - acc: 0.6907 - val_loss: 1.3477 - val_acc: 0.5949\n",
            "Epoch 14/15\n",
            "143810/143810 [==============================] - 133s 923us/step - loss: 0.9462 - acc: 0.6952 - val_loss: 1.3572 - val_acc: 0.5911\n",
            "Epoch 15/15\n",
            "143810/143810 [==============================] - 133s 922us/step - loss: 0.9231 - acc: 0.7043 - val_loss: 1.3491 - val_acc: 0.5943\n",
            "Training Accuracy: 0.7222\n",
            "Testing Accuracy:  0.5943\n"
          ],
          "name": "stdout"
        },
        {
          "output_type": "display_data",
          "data": {
            "image/png": "[encoded data removed]",
            "text/plain": [
              "<Figure size 864x360 with 2 Axes>"
            ]
          },
          "metadata": {
            "tags": []
          }
        }
      ]
    },
    {
      "metadata": {
        "id": "z3QjiB9-94km",
        "colab_type": "text"
      },
      "cell_type": "markdown",
      "source": [
        "#### 3.1.2.4 Datos\n",
        "Por como estan distribuidos los generos en el dataset puede que este contribuyendo al overfitting. Como experimento se removeran las canciones de rock que son el 46% de las canciones.\n",
        "\n",
        "\n"
      ]
    },
    {
      "metadata": {
        "id": "gxQw83iqE7FK",
        "colab_type": "code",
        "colab": {}
      },
      "cell_type": "code",
      "source": [
        "dataEN2 = dataEN[data.genre != \"Rock\"]\n",
        "X2 = dataEN2.drop(columns=\"genre\")       # leave the rest of the data (x)\n",
        "y_labels2 = np.unique(dataEN['genre'])             # extract genre data into numpy array (y)\n",
        "y_class2 = dataEN['genre'].apply(lambda g:np.argmax(y_labels==g))\n",
        "y2 = to_categorical(y_class)\n",
        "print(X2.shape)\n",
        "print(X2.head())\n",
        "\n",
        "x_train2, x_test2, y_train2, y_test2 = train_test_split(X2, y2, test_size=0.3, random_state=1)\n",
        "\n",
        "num_words=20000\n",
        "tokenizer2 = Tokenizer(num_words=num_words,filters='!\"\\'#$%&()*+,-./:;<=>?@[\\\\]^_`{|}~\\t\\n')\n",
        "tokenizer2.fit_on_texts(x_train2.lyrics.values)\n",
        "\n",
        "X_train2 = tokenizer.texts_to_sequences(x_train2.lyrics.values)\n",
        "X_test2 = tokenizer.texts_to_sequences(x_test2.lyrics.values)\n",
        "\n",
        "vocabulary_size2 = len(tokenizer2.word_index) + 1\n"
      ],
      "execution_count": 0,
      "outputs": []
    },
    {
      "metadata": {
        "id": "0RjPzwiFuDTy",
        "colab_type": "text"
      },
      "cell_type": "markdown",
      "source": [
        "#Quitar rock\n",
        "\n",
        "data[data.genre != \"Rock\"]"
      ]
    },
    {
      "metadata": {
        "id": "oEbvVhh3Vs3H",
        "colab_type": "code",
        "colab": {}
      },
      "cell_type": "code",
      "source": [
        "model = Sequential()\n",
        "model.add(Embedding(vocabulary_size, embedding_dim, weights=[embedding_matrix], \n",
        "                           input_length=maxlen, trainable=True))\n",
        "model.add(Conv1D(embedding_dim, 5, activation='relu'))\n",
        "model.add(Dropout(0.5))\n",
        "model.add(MaxPooling1D(5))\n",
        "model.add(Conv1D(embedding_dim, 5, activation='relu'))\n",
        "model.add(Dropout(0.6))\n",
        "model.add(MaxPooling1D(55))\n",
        "model.add(Flatten())\n",
        "model.add(Dense(10, activation='softmax'))\n",
        "model.compile(loss='categorical_crossentropy',\n",
        "              optimizer='adam',\n",
        "              metrics=['acc'])\n",
        "model.summary()\n",
        "\n",
        "history = model.fit(X_train, y_train,\n",
        "                    epochs=15,\n",
        "                    verbose=True,\n",
        "                    validation_data=(X_test, y_test),\n",
        "                    batch_size=64)\n",
        "loss, accuracy = model.evaluate(X_train, y_train, verbose=False)\n",
        "print(\"Training Accuracy: {:.4f}\".format(accuracy))\n",
        "loss, accuracy = model.evaluate(X_test, y_test, verbose=False)\n",
        "print(\"Testing Accuracy:  {:.4f}\".format(accuracy))\n",
        "plot_history(history)"
      ],
      "execution_count": 0,
      "outputs": []
    },
    {
      "metadata": {
        "id": "D3EZJQsmi6nB",
        "colab_type": "code",
        "colab": {}
      },
      "cell_type": "code",
      "source": [
        "model = Sequential()\n",
        "model.add(Embedding(vocabulary_size, embedding_dim, weights=[embedding_matrix], \n",
        "                           input_length=maxlen, trainable=True))\n",
        "model.add(Conv1D(embedding_dim, 5, activation='relu'))\n",
        "model.add(Dropout(0.5))\n",
        "model.add(MaxPooling1D(5))\n",
        "model.add(Conv1D(embedding_dim, 5, activation='relu'))\n",
        "model.add(Dropout(0.6))\n",
        "model.add(MaxPooling1D(55))\n",
        "model.add(Flatten())\n",
        "model.add(Dense(10, activation='softmax'))\n",
        "model.compile(loss='categorical_crossentropy',\n",
        "              optimizer='adam',\n",
        "              metrics=['acc'])\n",
        "model.summary()\n",
        "\n",
        "history = model.fit(X_train, y_train,\n",
        "                    epochs=15,\n",
        "                    verbose=True,\n",
        "                    validation_data=(X_test, y_test),\n",
        "                    batch_size=64)\n",
        "loss, accuracy = model.evaluate(X_train, y_train, verbose=False)\n",
        "print(\"Training Accuracy: {:.4f}\".format(accuracy))\n",
        "loss, accuracy = model.evaluate(X_test, y_test, verbose=False)\n",
        "print(\"Testing Accuracy:  {:.4f}\".format(accuracy))\n",
        "plot_history(history)"
      ],
      "execution_count": 0,
      "outputs": []
    },
    {
      "metadata": {
        "id": "XXppzoWIjhEQ",
        "colab_type": "code",
        "colab": {}
      },
      "cell_type": "code",
      "source": [
        "from keras.regularizers import l2\n",
        "\n",
        "model = Sequential()\n",
        "model.add(Embedding(vocabulary_size, embedding_dim, weights=[embedding_matrix], \n",
        "                           input_length=maxlen, trainable=True))\n",
        "model.add(Conv1D(embedding_dim, 5,  kernel_regularizer=l2(0.005), activation='relu'))\n",
        "model.add(Dropout(0.5))\n",
        "model.add(MaxPooling1D(5))\n",
        "model.add(Conv1D(embedding_dim, 5, kernel_regularizer=l2(0.005), activation='relu'))\n",
        "model.add(Dropout(0.6))\n",
        "model.add(MaxPooling1D(55))\n",
        "model.add(Flatten())\n",
        "model.add(Dense(10, activation='softmax'))\n",
        "model.compile(loss='categorical_crossentropy',\n",
        "              optimizer='adam',\n",
        "              metrics=['acc'])\n",
        "model.summary()\n",
        "\n",
        "history = model.fit(X_train, y_train,\n",
        "                    epochs=13,\n",
        "                    verbose=True,\n",
        "                    validation_data=(X_test, y_test),\n",
        "                    batch_size=64)\n",
        "loss, accuracy = model.evaluate(X_train, y_train, verbose=False)\n",
        "print(\"Training Accuracy: {:.4f}\".format(accuracy))\n",
        "loss, accuracy = model.evaluate(X_test, y_test, verbose=False)\n",
        "print(\"Testing Accuracy:  {:.4f}\".format(accuracy))\n",
        "plot_history(history)"
      ],
      "execution_count": 0,
      "outputs": []
    },
    {
      "metadata": {
        "id": "d2y8G_haJlZs",
        "colab_type": "code",
        "colab": {}
      },
      "cell_type": "code",
      "source": [
        "from keras.regularizers import l2\n",
        "\n",
        "model = Sequential()\n",
        "model.add(Embedding(vocabulary_size, embedding_dim, weights=[embedding_matrix], \n",
        "                           input_length=maxlen, trainable=True))\n",
        "model.add(Conv1D(embedding_dim, 5,  kernel_regularizer=l2(0.005), activation='relu'))\n",
        "model.add(Dropout(0.5))\n",
        "model.add(MaxPooling1D(5))\n",
        "model.add(Conv1D(embedding_dim, 5, kernel_regularizer=l2(0.005), activation='relu'))\n",
        "model.add(Dropout(0.6))\n",
        "model.add(MaxPooling1D(55))\n",
        "model.add(Flatten())\n",
        "model.add(Dense(10, activation='softmax'))\n",
        "model.compile(loss='categorical_crossentropy',\n",
        "              optimizer='adam',\n",
        "              metrics=['acc'])\n",
        "model.summary()\n",
        "\n",
        "history = model.fit(X_train, y_train,\n",
        "                    epochs=13,\n",
        "                    verbose=True,\n",
        "                    validation_data=(X_test, y_test),\n",
        "                    batch_size=64)\n",
        "loss, accuracy = model.evaluate(X_train, y_train, verbose=False)\n",
        "print(\"Training Accuracy: {:.4f}\".format(accuracy))\n",
        "loss, accuracy = model.evaluate(X_test, y_test, verbose=False)\n",
        "print(\"Testing Accuracy:  {:.4f}\".format(accuracy))\n",
        "plot_history(history)"
      ],
      "execution_count": 0,
      "outputs": []
    },
    {
      "metadata": {
        "id": "HkHETOj0TC8o",
        "colab_type": "code",
        "colab": {}
      },
      "cell_type": "code",
      "source": [
        "from keras.regularizers import l2\n",
        "\n",
        "model = Sequential()\n",
        "model.add(Embedding(vocabulary_size, embedding_dim, weights=[embedding_matrix], \n",
        "                           input_length=maxlen, trainable=True))\n",
        "model.add(Conv1D(embedding_dim, 10,  kernel_regularizer=l2(0.005), activation='relu'))\n",
        "model.add(Dropout(0.55))\n",
        "model.add(MaxPooling1D(15))\n",
        "model.add(Flatten())\n",
        "model.add(Dense(10, activation='softmax'))\n",
        "model.compile(loss='categorical_crossentropy',\n",
        "              optimizer='adam',\n",
        "              metrics=['acc'])\n",
        "model.summary()\n",
        "\n",
        "history = model.fit(X_train, y_train,\n",
        "                    epochs=13,\n",
        "                    verbose=True,\n",
        "                    validation_data=(X_test, y_test),\n",
        "                    batch_size=64)\n",
        "loss, accuracy = model.evaluate(X_train, y_train, verbose=False)\n",
        "print(\"Training Accuracy: {:.4f}\".format(accuracy))\n",
        "loss, accuracy = model.evaluate(X_test, y_test, verbose=False)\n",
        "print(\"Testing Accuracy:  {:.4f}\".format(accuracy))\n",
        "plot_history(history)"
      ],
      "execution_count": 0,
      "outputs": []
    },
    {
      "metadata": {
        "id": "Tw9HEcTNTCtw",
        "colab_type": "code",
        "colab": {}
      },
      "cell_type": "code",
      "source": [
        "from keras.regularizers import l2\n",
        "\n",
        "model = Sequential()\n",
        "model.add(Embedding(vocabulary_size, embedding_dim, weights=[embedding_matrix], \n",
        "                           input_length=maxlen, trainable=True))\n",
        "model.add(Conv1D(embedding_dim, 10,  kernel_regularizer=l2(0.005), activation='relu'))\n",
        "model.add(Dropout(0.55))\n",
        "model.add(MaxPooling1D(15))\n",
        "model.add(Flatten())\n",
        "model.add(Dense(10, activation='softmax'))\n",
        "model.compile(loss='categorical_crossentropy',\n",
        "              optimizer='adam',\n",
        "              metrics=['acc'])\n",
        "model.summary()\n",
        "\n",
        "history = model.fit(X_train, y_train,\n",
        "                    epochs=13,\n",
        "                    verbose=True,\n",
        "                    validation_data=(X_test, y_test),\n",
        "                    batch_size=64)\n",
        "loss, accuracy = model.evaluate(X_train, y_train, verbose=False)\n",
        "print(\"Training Accuracy: {:.4f}\".format(accuracy))\n",
        "loss, accuracy = model.evaluate(X_test, y_test, verbose=False)\n",
        "print(\"Testing Accuracy:  {:.4f}\".format(accuracy))\n",
        "plot_history(history)"
      ],
      "execution_count": 0,
      "outputs": []
    }
  ]
}
