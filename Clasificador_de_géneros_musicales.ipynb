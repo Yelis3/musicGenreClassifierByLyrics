{
  "nbformat": 4,
  "nbformat_minor": 0,
  "metadata": {
    "colab": {
      "name": "Clasificador de géneros musicales",
      "version": "0.3.2",
      "provenance": [],
      "collapsed_sections": [],
      "toc_visible": true,
      "include_colab_link": true
    },
    "kernelspec": {
      "name": "python3",
      "display_name": "Python 3"
    },
    "accelerator": "TPU"
  },
  "cells": [
    {
      "cell_type": "markdown",
      "metadata": {
        "id": "view-in-github",
        "colab_type": "text"
      },
      "source": [
        "<a href=\"https://colab.research.google.com/github/Yelis3/musicGenreClassifierByLyrics/blob/master/Clasificador_de_g%C3%A9neros_musicales.ipynb\" target=\"_parent\"><img src=\"https://colab.research.google.com/assets/colab-badge.svg\" alt=\"Open In Colab\"/></a>"
      ]
    },
    {
      "metadata": {
        "id": "EChi8EptmrU1",
        "colab_type": "text"
      },
      "cell_type": "markdown",
      "source": [
        "##Instalar librerías"
      ]
    },
    {
      "metadata": {
        "id": "9JgVD7N2nYUz",
        "colab_type": "code",
        "outputId": "807323c8-8eea-4b89-9dc5-a9b1401b7d38",
        "colab": {
          "base_uri": "https://localhost:8080/",
          "height": 526
        }
      },
      "cell_type": "code",
      "source": [
        "!pip install kaggle\n",
        "!pip install -q kaggle-cli\n",
        "!pip install langdetect"
      ],
      "execution_count": 0,
      "outputs": [
        {
          "output_type": "stream",
          "text": [
            "Requirement already satisfied: kaggle in /usr/local/lib/python3.6/dist-packages (1.5.2)\n",
            "Requirement already satisfied: urllib3<1.23.0,>=1.15 in /usr/local/lib/python3.6/dist-packages (from kaggle) (1.22)\n",
            "Requirement already satisfied: six>=1.10 in /usr/local/lib/python3.6/dist-packages (from kaggle) (1.11.0)\n",
            "Requirement already satisfied: certifi in /usr/local/lib/python3.6/dist-packages (from kaggle) (2018.11.29)\n",
            "Requirement already satisfied: python-dateutil in /usr/local/lib/python3.6/dist-packages (from kaggle) (2.5.3)\n",
            "Requirement already satisfied: requests in /usr/local/lib/python3.6/dist-packages (from kaggle) (2.18.4)\n",
            "Requirement already satisfied: tqdm in /usr/local/lib/python3.6/dist-packages (from kaggle) (4.28.1)\n",
            "Requirement already satisfied: python-slugify in /usr/local/lib/python3.6/dist-packages (from kaggle) (2.0.1)\n",
            "Requirement already satisfied: chardet<3.1.0,>=3.0.2 in /usr/local/lib/python3.6/dist-packages (from requests->kaggle) (3.0.4)\n",
            "Requirement already satisfied: idna<2.7,>=2.5 in /usr/local/lib/python3.6/dist-packages (from requests->kaggle) (2.6)\n",
            "Requirement already satisfied: Unidecode>=0.04.16 in /usr/local/lib/python3.6/dist-packages (from python-slugify->kaggle) (1.0.23)\n",
            "\u001b[K    100% |████████████████████████████████| 81kB 3.3MB/s \n",
            "\u001b[K    100% |████████████████████████████████| 5.3MB 5.8MB/s \n",
            "\u001b[K    100% |████████████████████████████████| 92kB 30.7MB/s \n",
            "\u001b[K    100% |████████████████████████████████| 51kB 22.3MB/s \n",
            "\u001b[?25h  Building wheel for kaggle-cli (setup.py) ... \u001b[?25ldone\n",
            "\u001b[?25h  Building wheel for cliff (setup.py) ... \u001b[?25ldone\n",
            "\u001b[?25h  Building wheel for pyperclip (setup.py) ... \u001b[?25ldone\n",
            "\u001b[?25hCollecting langdetect\n",
            "\u001b[?25l  Downloading https://files.pythonhosted.org/packages/59/59/4bc44158a767a6d66de18c4136c8aa90491d56cc951c10b74dd1e13213c9/langdetect-1.0.7.zip (998kB)\n",
            "\u001b[K    100% |████████████████████████████████| 1.0MB 22.5MB/s \n",
            "\u001b[?25hRequirement already satisfied: six in /usr/local/lib/python3.6/dist-packages (from langdetect) (1.11.0)\n",
            "Building wheels for collected packages: langdetect\n",
            "  Building wheel for langdetect (setup.py) ... \u001b[?25ldone\n",
            "\u001b[?25h  Stored in directory: /root/.cache/pip/wheels/ec/0c/a9/1647275e7ef5014e7b83ff30105180e332867d65e7617ddafe\n",
            "Successfully built langdetect\n",
            "Installing collected packages: langdetect\n",
            "Successfully installed langdetect-1.0.7\n"
          ],
          "name": "stdout"
        }
      ]
    },
    {
      "metadata": {
        "id": "j4aYw5KpsK9S",
        "colab_type": "text"
      },
      "cell_type": "markdown",
      "source": [
        "#1 Dataset\n",
        "\n",
        "El dataset que se uso fue [380,000+ lyrics from MetroLyrics](https://www.kaggle.com/gyani95/380000-lyrics-from-metrolyrics) de Kaggle. Este dataset cuenta con el titulo, año, artista, genero y la letra de aproximadamente de 362236 canciones.\n"
      ]
    },
    {
      "metadata": {
        "id": "qGjgL4rm3SLr",
        "colab_type": "text"
      },
      "cell_type": "markdown",
      "source": [
        "##1.1 Descargar de kaggle"
      ]
    },
    {
      "metadata": {
        "id": "ZCIObXjysHrg",
        "colab_type": "code",
        "outputId": "47356732-ddf1-44bc-e02b-cd6ad40d7025",
        "colab": {
          "resources": {
            "http://localhost:8080/nbextensions/google.colab/files.js": {
              "data": "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",
              "ok": true,
              "headers": [
                [
                  "content-type",
                  "application/javascript"
                ]
              ],
              "status": 200,
              "status_text": ""
            }
          },
          "base_uri": "https://localhost:8080/",
          "height": 93
        }
      },
      "cell_type": "code",
      "source": [
        "from google.colab import files\n",
        "files.upload()"
      ],
      "execution_count": 3,
      "outputs": [
        {
          "output_type": "display_data",
          "data": {
            "text/html": [
              "\n",
              "     <input type=\"file\" id=\"files-974f0762-1166-4bce-abcc-ac83c4bf0728\" name=\"files[]\" multiple disabled />\n",
              "     <output id=\"result-974f0762-1166-4bce-abcc-ac83c4bf0728\">\n",
              "      Upload widget is only available when the cell has been executed in the\n",
              "      current browser session. Please rerun this cell to enable.\n",
              "      </output>\n",
              "      <script src=\"/nbextensions/google.colab/files.js\"></script> "
            ],
            "text/plain": [
              "<IPython.core.display.HTML object>"
            ]
          },
          "metadata": {
            "tags": []
          }
        },
        {
          "output_type": "stream",
          "text": [
            "Saving kaggle.json to kaggle.json\n"
          ],
          "name": "stdout"
        },
        {
          "output_type": "execute_result",
          "data": {
            "text/plain": [
              "{'kaggle.json': b'{\"username\":\"jesusfchavarro\",\"key\":\"42c183ccefbbf38dc96d620ed372f3bd\"}'}"
            ]
          },
          "metadata": {
            "tags": []
          },
          "execution_count": 3
        }
      ]
    },
    {
      "metadata": {
        "id": "H7TUJOHYsxO4",
        "colab_type": "code",
        "outputId": "1afe1eb4-c76a-4219-893b-d35619aa00f4",
        "colab": {
          "base_uri": "https://localhost:8080/",
          "height": 89
        }
      },
      "cell_type": "code",
      "source": [
        "!mkdir -p ~/.kaggle\n",
        "!cp kaggle.json ~/.kaggle/\n",
        "!chmod 600 ~/.kaggle/kaggle.json\n",
        "\n",
        "!kaggle config set -n path -v /content\n",
        "!kaggle datasets download -d gyani95/380000-lyrics-from-metrolyrics"
      ],
      "execution_count": 4,
      "outputs": [
        {
          "output_type": "stream",
          "text": [
            "- path is now set to: /content\n",
            "Downloading 380000-lyrics-from-metrolyrics.zip to /content/datasets/gyani95/380000-lyrics-from-metrolyrics\n",
            " 95% 94.0M/98.5M [00:00<00:00, 147MB/s]\n",
            "100% 98.5M/98.5M [00:00<00:00, 183MB/s]\n"
          ],
          "name": "stdout"
        }
      ]
    },
    {
      "metadata": {
        "id": "OkTYWjZhy3vm",
        "colab_type": "text"
      },
      "cell_type": "markdown",
      "source": [
        "##1.2 Limpieza\n"
      ]
    },
    {
      "metadata": {
        "id": "5-YQS-Qf6J1d",
        "colab_type": "code",
        "colab": {}
      },
      "cell_type": "code",
      "source": [
        "import pandas as pd\n",
        "import numpy as np \n",
        "import matplotlib.pyplot as plt"
      ],
      "execution_count": 0,
      "outputs": []
    },
    {
      "metadata": {
        "id": "9VqbarZ7E7K6",
        "colab_type": "text"
      },
      "cell_type": "markdown",
      "source": [
        "###1.2.1 Letras y generos inutiles\n",
        "Se eliminan los registros con generos 'Not Available' y 'Other' y sin letras.\n"
      ]
    },
    {
      "metadata": {
        "id": "xAQ_Z7QHxzgO",
        "colab_type": "code",
        "outputId": "df3ccb65-b347-4d6c-e052-fc8774c81ccd",
        "colab": {
          "base_uri": "https://localhost:8080/",
          "height": 198
        }
      },
      "cell_type": "code",
      "source": [
        "data = pd.read_csv('/content/datasets/gyani95/380000-lyrics-from-metrolyrics/380000-lyrics-from-metrolyrics.zip')    # read csv\n",
        "data = data.drop(data[(data.genre == 'Not Available') | (data.genre == 'Other') | (data.lyrics.isna())].index)\n",
        "data.head()\n"
      ],
      "execution_count": 0,
      "outputs": [
        {
          "output_type": "execute_result",
          "data": {
            "text/html": [
              "<div>\n",
              "<style scoped>\n",
              "    .dataframe tbody tr th:only-of-type {\n",
              "        vertical-align: middle;\n",
              "    }\n",
              "\n",
              "    .dataframe tbody tr th {\n",
              "        vertical-align: top;\n",
              "    }\n",
              "\n",
              "    .dataframe thead th {\n",
              "        text-align: right;\n",
              "    }\n",
              "</style>\n",
              "<table border=\"1\" class=\"dataframe\">\n",
              "  <thead>\n",
              "    <tr style=\"text-align: right;\">\n",
              "      <th></th>\n",
              "      <th>index</th>\n",
              "      <th>song</th>\n",
              "      <th>year</th>\n",
              "      <th>artist</th>\n",
              "      <th>genre</th>\n",
              "      <th>lyrics</th>\n",
              "    </tr>\n",
              "  </thead>\n",
              "  <tbody>\n",
              "    <tr>\n",
              "      <th>0</th>\n",
              "      <td>0</td>\n",
              "      <td>ego-remix</td>\n",
              "      <td>2009</td>\n",
              "      <td>beyonce-knowles</td>\n",
              "      <td>Pop</td>\n",
              "      <td>Oh baby, how you doing?\\nYou know I'm gonna cu...</td>\n",
              "    </tr>\n",
              "    <tr>\n",
              "      <th>1</th>\n",
              "      <td>1</td>\n",
              "      <td>then-tell-me</td>\n",
              "      <td>2009</td>\n",
              "      <td>beyonce-knowles</td>\n",
              "      <td>Pop</td>\n",
              "      <td>playin' everything so easy,\\nit's like you see...</td>\n",
              "    </tr>\n",
              "    <tr>\n",
              "      <th>2</th>\n",
              "      <td>2</td>\n",
              "      <td>honesty</td>\n",
              "      <td>2009</td>\n",
              "      <td>beyonce-knowles</td>\n",
              "      <td>Pop</td>\n",
              "      <td>If you search\\nFor tenderness\\nIt isn't hard t...</td>\n",
              "    </tr>\n",
              "    <tr>\n",
              "      <th>3</th>\n",
              "      <td>3</td>\n",
              "      <td>you-are-my-rock</td>\n",
              "      <td>2009</td>\n",
              "      <td>beyonce-knowles</td>\n",
              "      <td>Pop</td>\n",
              "      <td>Oh oh oh I, oh oh oh I\\n[Verse 1:]\\nIf I wrote...</td>\n",
              "    </tr>\n",
              "    <tr>\n",
              "      <th>4</th>\n",
              "      <td>4</td>\n",
              "      <td>black-culture</td>\n",
              "      <td>2009</td>\n",
              "      <td>beyonce-knowles</td>\n",
              "      <td>Pop</td>\n",
              "      <td>Party the people, the people the party it's po...</td>\n",
              "    </tr>\n",
              "  </tbody>\n",
              "</table>\n",
              "</div>"
            ],
            "text/plain": [
              "   index             song  year           artist genre  \\\n",
              "0      0        ego-remix  2009  beyonce-knowles   Pop   \n",
              "1      1     then-tell-me  2009  beyonce-knowles   Pop   \n",
              "2      2          honesty  2009  beyonce-knowles   Pop   \n",
              "3      3  you-are-my-rock  2009  beyonce-knowles   Pop   \n",
              "4      4    black-culture  2009  beyonce-knowles   Pop   \n",
              "\n",
              "                                              lyrics  \n",
              "0  Oh baby, how you doing?\\nYou know I'm gonna cu...  \n",
              "1  playin' everything so easy,\\nit's like you see...  \n",
              "2  If you search\\nFor tenderness\\nIt isn't hard t...  \n",
              "3  Oh oh oh I, oh oh oh I\\n[Verse 1:]\\nIf I wrote...  \n",
              "4  Party the people, the people the party it's po...  "
            ]
          },
          "metadata": {
            "tags": []
          },
          "execution_count": 5
        }
      ]
    },
    {
      "metadata": {
        "id": "ovs03DRA_OTL",
        "colab_type": "text"
      },
      "cell_type": "markdown",
      "source": [
        "###1.2.2 Lenguaje\n",
        "Como el dataset contiene canciones en varios idiomas se usa la libreria langdetect para agregar esta caracteristicas al dataset, dado que es un proceso que toma bastante tiempo guardamos todo en un archivo para evitar hacerlo varias veces.\n",
        "\n"
      ]
    },
    {
      "metadata": {
        "id": "tuwMrIYbBFKy",
        "colab_type": "code",
        "colab": {}
      },
      "cell_type": "code",
      "source": [
        "#No correr al menos que se quiera modificar el dataset\n",
        "from langdetect import detect\n",
        "\n",
        "def try_detect(text):\n",
        "  l = 75 if len(text) > 50 else len(text)\n",
        "  try:\n",
        "    return detect(text[:l])\n",
        "  except:\n",
        "    return \"NN\"\n",
        "  \n",
        "data['language'] = data.lyrics.apply(lambda r : try_detect(r))"
      ],
      "execution_count": 0,
      "outputs": []
    },
    {
      "metadata": {
        "id": "PGFSuqndE2BI",
        "colab_type": "text"
      },
      "cell_type": "markdown",
      "source": [
        "Bajamos el dataset ya procesado de kaggle"
      ]
    },
    {
      "metadata": {
        "id": "lfvGvMG-lSNy",
        "colab_type": "code",
        "outputId": "f4d42a76-6b56-458a-8edc-5c3825ecef26",
        "colab": {
          "base_uri": "https://localhost:8080/",
          "height": 71
        }
      },
      "cell_type": "code",
      "source": [
        "!kaggle datasets download -d jesusfchavarro/237427lyricsfrommetrolyticscsv\n",
        "\n",
        "data = pd.read_csv('/content/datasets/jesusfchavarro/237427lyricsfrommetrolyticscsv/237427lyricsfrommetrolyticscsv.zip')    # read csv"
      ],
      "execution_count": 5,
      "outputs": [
        {
          "output_type": "stream",
          "text": [
            "Downloading 237427lyricsfrommetrolyticscsv.zip to /content/datasets/jesusfchavarro/237427lyricsfrommetrolyticscsv\n",
            " 78% 65.0M/83.3M [00:01<00:00, 25.1MB/s]\n",
            "100% 83.3M/83.3M [00:02<00:00, 43.2MB/s]\n"
          ],
          "name": "stdout"
        }
      ]
    },
    {
      "metadata": {
        "id": "Cl5Fd46SRKO6",
        "colab_type": "text"
      },
      "cell_type": "markdown",
      "source": [
        "###1.2.3 Numero minimo de palabras\n",
        "\n",
        "Varias canciones tienen como letra cosas como \"Intrumental\" o \"Orchestra\". Para evitar este tipo de canciones eliminamos todas las cancioens con menos de 14 palabras."
      ]
    },
    {
      "metadata": {
        "id": "SQ5Gxkm7CN8y",
        "colab_type": "code",
        "colab": {}
      },
      "cell_type": "code",
      "source": [
        "import re\n",
        "\n",
        "data = data[data.lyrics.apply(lambda x: len(re.split(r'\\s+|\\W+',re.sub(r'\\[.*\\]|\\(.*\\)', '', x)))>13 )]"
      ],
      "execution_count": 0,
      "outputs": []
    },
    {
      "metadata": {
        "id": "QXWyjYqSKN8C",
        "colab_type": "text"
      },
      "cell_type": "markdown",
      "source": [
        "##1.3 Analisis del dataset\n",
        "\n",
        "Despues de limpiar el dataset terminamos con una cantidad de 206361 canciones.A continuación se sacaran algunos datos que nos parecio importante tener en cuenta."
      ]
    },
    {
      "metadata": {
        "id": "M_AGbLBn3hsq",
        "colab_type": "text"
      },
      "cell_type": "markdown",
      "source": [
        "###1.3.1 Genero"
      ]
    },
    {
      "metadata": {
        "id": "_SGDZ0JpHst1",
        "colab_type": "text"
      },
      "cell_type": "markdown",
      "source": [
        "La distribucion de generos en el dataset se puede apreciar en las siguientes graficas. Se aprecia que los 2 generos con mas registros son Rock y Pop con el 46% y el 17% de canciones aproximadamente, y los generos con menos registros son Folk e Indie con el 0.94% y el 1.33% respectivamente."
      ]
    },
    {
      "metadata": {
        "id": "5zqOU8bB5glE",
        "colab_type": "code",
        "outputId": "a473bba7-2d2d-46f9-ff27-997353845745",
        "colab": {
          "base_uri": "https://localhost:8080/",
          "height": 444
        }
      },
      "cell_type": "code",
      "source": [
        "plot_data = data['genre'].value_counts()\n",
        "\n",
        "plt.figure(1, figsize=(15, 7))\n",
        "plt.subplot(121)\n",
        "plt.title('Numero de canciones por generos')\n",
        "plt.bar(np.arange(len(plot_data)), plot_data.values)\n",
        "plt.xticks(np.arange(len(plot_data)), plot_data.keys().values)\n",
        "plt.grid(True)\n",
        "\n",
        "plt.subplot(122)\n",
        "plt.title('% de cada genero')\n",
        "plt.pie(plot_data.values, labels=plot_data.keys().values,\n",
        "        autopct = '%1.2f%%')\n",
        "\n",
        "plt.show()"
      ],
      "execution_count": 0,
      "outputs": [
        {
          "output_type": "display_data",
          "data": {
            "image/png": "[encoded data removed]",
            "text/plain": [
              "<Figure size 1080x504 with 2 Axes>"
            ]
          },
          "metadata": {
            "tags": []
          }
        }
      ]
    },
    {
      "metadata": {
        "id": "MHOqBrLQ38ei",
        "colab_type": "code",
        "outputId": "fda8b31d-ce86-4b4e-aa8a-adb3176ab11c",
        "colab": {
          "base_uri": "https://localhost:8080/",
          "height": 509
        }
      },
      "cell_type": "code",
      "source": [
        "data.groupby(['genre'])['artist'].unique()[bar_data.keys().values].apply(len).plot('bar',title=\"Numero de artistas por genero\",figsize=(17, 7))"
      ],
      "execution_count": 0,
      "outputs": [
        {
          "output_type": "execute_result",
          "data": {
            "text/plain": [
              "<matplotlib.axes._subplots.AxesSubplot at 0x7fd0761c6518>"
            ]
          },
          "metadata": {
            "tags": []
          },
          "execution_count": 242
        },
        {
          "output_type": "display_data",
          "data": {
            "image/png": "[encoded data removed]",
            "text/plain": [
              "<Figure size 1224x504 with 1 Axes>"
            ]
          },
          "metadata": {
            "tags": []
          }
        }
      ]
    },
    {
      "metadata": {
        "id": "l-8YzFg__-8M",
        "colab_type": "text"
      },
      "cell_type": "markdown",
      "source": [
        "###1.3.2 Artistas\n",
        "Cuales son los artistas con mayor numero de canciones."
      ]
    },
    {
      "metadata": {
        "id": "Tyb5kq8eAqMC",
        "colab_type": "code",
        "outputId": "aadfc9d8-3aef-47bc-e452-2ced2f10b10e",
        "colab": {
          "base_uri": "https://localhost:8080/",
          "height": 395
        }
      },
      "cell_type": "code",
      "source": [
        "data['artist'].value_counts()[:20]\n"
      ],
      "execution_count": 0,
      "outputs": [
        {
          "output_type": "execute_result",
          "data": {
            "text/plain": [
              "dolly-parton         744\n",
              "elton-john           676\n",
              "chris-brown          628\n",
              "barbra-streisand     607\n",
              "bob-dylan            596\n",
              "eddy-arnold          591\n",
              "bee-gees             591\n",
              "eminem               578\n",
              "ella-fitzgerald      571\n",
              "david-bowie          570\n",
              "american-idol        568\n",
              "dean-martin          560\n",
              "b-b-king             543\n",
              "celine-dion          540\n",
              "elvis-costello       522\n",
              "bruce-springsteen    509\n",
              "beach-boys           495\n",
              "bill-anderson        466\n",
              "eric-clapton         461\n",
              "frank-zappa          457\n",
              "Name: artist, dtype: int64"
            ]
          },
          "metadata": {
            "tags": []
          },
          "execution_count": 119
        }
      ]
    },
    {
      "metadata": {
        "id": "qEUqN8P4A8Sw",
        "colab_type": "text"
      },
      "cell_type": "markdown",
      "source": [
        "###1.3.3 Lenguaje"
      ]
    },
    {
      "metadata": {
        "id": "LslgGd2nTzqn",
        "colab_type": "text"
      },
      "cell_type": "markdown",
      "source": [
        "Como se distribuye los diferentes lenguajes en el dataset."
      ]
    },
    {
      "metadata": {
        "id": "wmWhQLsSBDWh",
        "colab_type": "code",
        "outputId": "45eb426b-ac2c-43a6-a5da-4c52e6dd400c",
        "colab": {
          "base_uri": "https://localhost:8080/",
          "height": 476
        }
      },
      "cell_type": "code",
      "source": [
        "data['language'].value_counts().plot('bar',title=\"Numero de artistas por genero\", figsize=(17, 7))"
      ],
      "execution_count": 0,
      "outputs": [
        {
          "output_type": "execute_result",
          "data": {
            "text/plain": [
              "<matplotlib.axes._subplots.AxesSubplot at 0x7fd076140518>"
            ]
          },
          "metadata": {
            "tags": []
          },
          "execution_count": 244
        },
        {
          "output_type": "display_data",
          "data": {
            "image/png": "[encoded data removed]",
            "text/plain": [
              "<Figure size 1224x504 with 1 Axes>"
            ]
          },
          "metadata": {
            "tags": []
          }
        }
      ]
    },
    {
      "metadata": {
        "id": "CNoXH_LZxcAJ",
        "colab_type": "text"
      },
      "cell_type": "markdown",
      "source": [
        "##1.4 Dividir los datos de train y test"
      ]
    },
    {
      "metadata": {
        "id": "umrF6xXix9Pw",
        "colab_type": "code",
        "outputId": "9d149ed1-e1f1-4fe9-e36b-67f011622644",
        "colab": {
          "base_uri": "https://localhost:8080/",
          "height": 222
        }
      },
      "cell_type": "code",
      "source": [
        "from sklearn.model_selection import train_test_split\n",
        "\n",
        "dataEN = data[data.language == 'en']   # select only the english songs\n",
        "X = dataEN.drop(columns=\"genre\")       # leave the rest of the data (x)\n",
        "y = dataEN['genre'].values             # extract genre data into numpy array (y)\n",
        "\n",
        "print(X.shape)\n",
        "X.head()"
      ],
      "execution_count": 10,
      "outputs": [
        {
          "output_type": "stream",
          "text": [
            "(205423, 6)\n"
          ],
          "name": "stdout"
        },
        {
          "output_type": "execute_result",
          "data": {
            "text/html": [
              "<div>\n",
              "<style scoped>\n",
              "    .dataframe tbody tr th:only-of-type {\n",
              "        vertical-align: middle;\n",
              "    }\n",
              "\n",
              "    .dataframe tbody tr th {\n",
              "        vertical-align: top;\n",
              "    }\n",
              "\n",
              "    .dataframe thead th {\n",
              "        text-align: right;\n",
              "    }\n",
              "</style>\n",
              "<table border=\"1\" class=\"dataframe\">\n",
              "  <thead>\n",
              "    <tr style=\"text-align: right;\">\n",
              "      <th></th>\n",
              "      <th>index</th>\n",
              "      <th>song</th>\n",
              "      <th>year</th>\n",
              "      <th>artist</th>\n",
              "      <th>lyrics</th>\n",
              "      <th>language</th>\n",
              "    </tr>\n",
              "  </thead>\n",
              "  <tbody>\n",
              "    <tr>\n",
              "      <th>0</th>\n",
              "      <td>0</td>\n",
              "      <td>ego-remix</td>\n",
              "      <td>2009</td>\n",
              "      <td>beyonce-knowles</td>\n",
              "      <td>Oh baby, how you doing?\\nYou know I'm gonna cu...</td>\n",
              "      <td>en</td>\n",
              "    </tr>\n",
              "    <tr>\n",
              "      <th>1</th>\n",
              "      <td>1</td>\n",
              "      <td>then-tell-me</td>\n",
              "      <td>2009</td>\n",
              "      <td>beyonce-knowles</td>\n",
              "      <td>playin' everything so easy,\\nit's like you see...</td>\n",
              "      <td>en</td>\n",
              "    </tr>\n",
              "    <tr>\n",
              "      <th>2</th>\n",
              "      <td>2</td>\n",
              "      <td>honesty</td>\n",
              "      <td>2009</td>\n",
              "      <td>beyonce-knowles</td>\n",
              "      <td>If you search\\nFor tenderness\\nIt isn't hard t...</td>\n",
              "      <td>en</td>\n",
              "    </tr>\n",
              "    <tr>\n",
              "      <th>3</th>\n",
              "      <td>3</td>\n",
              "      <td>you-are-my-rock</td>\n",
              "      <td>2009</td>\n",
              "      <td>beyonce-knowles</td>\n",
              "      <td>Oh oh oh I, oh oh oh I\\n[Verse 1:]\\nIf I wrote...</td>\n",
              "      <td>en</td>\n",
              "    </tr>\n",
              "    <tr>\n",
              "      <th>4</th>\n",
              "      <td>4</td>\n",
              "      <td>black-culture</td>\n",
              "      <td>2009</td>\n",
              "      <td>beyonce-knowles</td>\n",
              "      <td>Party the people, the people the party it's po...</td>\n",
              "      <td>en</td>\n",
              "    </tr>\n",
              "  </tbody>\n",
              "</table>\n",
              "</div>"
            ],
            "text/plain": [
              "   index             song  year           artist  \\\n",
              "0      0        ego-remix  2009  beyonce-knowles   \n",
              "1      1     then-tell-me  2009  beyonce-knowles   \n",
              "2      2          honesty  2009  beyonce-knowles   \n",
              "3      3  you-are-my-rock  2009  beyonce-knowles   \n",
              "4      4    black-culture  2009  beyonce-knowles   \n",
              "\n",
              "                                              lyrics language  \n",
              "0  Oh baby, how you doing?\\nYou know I'm gonna cu...       en  \n",
              "1  playin' everything so easy,\\nit's like you see...       en  \n",
              "2  If you search\\nFor tenderness\\nIt isn't hard t...       en  \n",
              "3  Oh oh oh I, oh oh oh I\\n[Verse 1:]\\nIf I wrote...       en  \n",
              "4  Party the people, the people the party it's po...       en  "
            ]
          },
          "metadata": {
            "tags": []
          },
          "execution_count": 10
        }
      ]
    },
    {
      "metadata": {
        "id": "tnufJGfnyTHg",
        "colab_type": "code",
        "colab": {}
      },
      "cell_type": "code",
      "source": [
        "x_train, x_test, y_train, y_test = train_test_split(X, y, test_size=0.25, random_state=1000)"
      ],
      "execution_count": 0,
      "outputs": []
    },
    {
      "metadata": {
        "id": "laTugUaS1eOt",
        "colab_type": "code",
        "outputId": "98a714fc-966f-4af7-c0d7-b109b3891e1a",
        "colab": {
          "base_uri": "https://localhost:8080/",
          "height": 204
        }
      },
      "cell_type": "code",
      "source": [
        "x_train.head()"
      ],
      "execution_count": 12,
      "outputs": [
        {
          "output_type": "execute_result",
          "data": {
            "text/html": [
              "<div>\n",
              "<style scoped>\n",
              "    .dataframe tbody tr th:only-of-type {\n",
              "        vertical-align: middle;\n",
              "    }\n",
              "\n",
              "    .dataframe tbody tr th {\n",
              "        vertical-align: top;\n",
              "    }\n",
              "\n",
              "    .dataframe thead th {\n",
              "        text-align: right;\n",
              "    }\n",
              "</style>\n",
              "<table border=\"1\" class=\"dataframe\">\n",
              "  <thead>\n",
              "    <tr style=\"text-align: right;\">\n",
              "      <th></th>\n",
              "      <th>index</th>\n",
              "      <th>song</th>\n",
              "      <th>year</th>\n",
              "      <th>artist</th>\n",
              "      <th>lyrics</th>\n",
              "      <th>language</th>\n",
              "    </tr>\n",
              "  </thead>\n",
              "  <tbody>\n",
              "    <tr>\n",
              "      <th>234294</th>\n",
              "      <td>357624</td>\n",
              "      <td>power-of-the-female</td>\n",
              "      <td>2008</td>\n",
              "      <td>cherish</td>\n",
              "      <td>All the fellas\\nWanna tell ya\\nWe comin' throu...</td>\n",
              "      <td>en</td>\n",
              "    </tr>\n",
              "    <tr>\n",
              "      <th>53432</th>\n",
              "      <td>83813</td>\n",
              "      <td>nobody-owns-me</td>\n",
              "      <td>2014</td>\n",
              "      <td>belinda-carlisle</td>\n",
              "      <td>Nobody owns me\\nI don't wanna be anybody's foo...</td>\n",
              "      <td>en</td>\n",
              "    </tr>\n",
              "    <tr>\n",
              "      <th>69246</th>\n",
              "      <td>108361</td>\n",
              "      <td>man-papers-his-crack</td>\n",
              "      <td>2006</td>\n",
              "      <td>chumbawamba</td>\n",
              "      <td>Hey Manfred, what you doing back there?\\nCome ...</td>\n",
              "      <td>en</td>\n",
              "    </tr>\n",
              "    <tr>\n",
              "      <th>130304</th>\n",
              "      <td>199943</td>\n",
              "      <td>close-to-the-edge</td>\n",
              "      <td>2009</td>\n",
              "      <td>diamond-rio</td>\n",
              "      <td>Well I've always been a rounder\\nWith a passio...</td>\n",
              "      <td>en</td>\n",
              "    </tr>\n",
              "    <tr>\n",
              "      <th>39537</th>\n",
              "      <td>61971</td>\n",
              "      <td>take-me-back</td>\n",
              "      <td>2006</td>\n",
              "      <td>basement-jaxx</td>\n",
              "      <td>Everybody's all alone\\nEverybody's had enough\\...</td>\n",
              "      <td>en</td>\n",
              "    </tr>\n",
              "  </tbody>\n",
              "</table>\n",
              "</div>"
            ],
            "text/plain": [
              "         index                  song  year            artist  \\\n",
              "234294  357624   power-of-the-female  2008           cherish   \n",
              "53432    83813        nobody-owns-me  2014  belinda-carlisle   \n",
              "69246   108361  man-papers-his-crack  2006       chumbawamba   \n",
              "130304  199943     close-to-the-edge  2009       diamond-rio   \n",
              "39537    61971          take-me-back  2006     basement-jaxx   \n",
              "\n",
              "                                                   lyrics language  \n",
              "234294  All the fellas\\nWanna tell ya\\nWe comin' throu...       en  \n",
              "53432   Nobody owns me\\nI don't wanna be anybody's foo...       en  \n",
              "69246   Hey Manfred, what you doing back there?\\nCome ...       en  \n",
              "130304  Well I've always been a rounder\\nWith a passio...       en  \n",
              "39537   Everybody's all alone\\nEverybody's had enough\\...       en  "
            ]
          },
          "metadata": {
            "tags": []
          },
          "execution_count": 12
        }
      ]
    },
    {
      "metadata": {
        "id": "vBct6xZZ3JAt",
        "colab_type": "text"
      },
      "cell_type": "markdown",
      "source": [
        "#2 Preprocessing "
      ]
    },
    {
      "metadata": {
        "id": "o8Z3B_97kH9v",
        "colab_type": "text"
      },
      "cell_type": "markdown",
      "source": [
        "##2.1 Word Embeddings\n"
      ]
    },
    {
      "metadata": {
        "id": "HUlK981Fkm3Z",
        "colab_type": "text"
      },
      "cell_type": "markdown",
      "source": [
        "###2.1.1 Tokenizer"
      ]
    },
    {
      "metadata": {
        "id": "xZrKvR97chn3",
        "colab_type": "text"
      },
      "cell_type": "markdown",
      "source": [
        "Usamos el tokenizer de keras para crear una represetacion vectorial de las letras de las canciones."
      ]
    },
    {
      "metadata": {
        "id": "tWxhPTqrk9R4",
        "colab_type": "code",
        "colab": {}
      },
      "cell_type": "code",
      "source": [
        "from keras.preprocessing.text import Tokenizer\n",
        "\n",
        "tokenizer = Tokenizer(num_words=20000)\n",
        "tokenizer.fit_on_texts(x_train.lyrics.values)\n",
        "\n",
        "X_train = tokenizer.texts_to_sequences(x_train.lyrics.values)\n",
        "X_test = tokenizer.texts_to_sequences(x_test.lyrics.values)\n",
        "\n",
        "vocabulary_size = len(tokenizer.word_index) + 1"
      ],
      "execution_count": 0,
      "outputs": []
    },
    {
      "metadata": {
        "id": "ra7cvuTf_tgZ",
        "colab_type": "code",
        "colab": {
          "base_uri": "https://localhost:8080/",
          "height": 35
        },
        "outputId": "a7b0c6a9-d8d9-4f8a-d502-23ce572f6905"
      },
      "cell_type": "code",
      "source": [
        "vocabulary_size"
      ],
      "execution_count": 30,
      "outputs": [
        {
          "output_type": "execute_result",
          "data": {
            "text/plain": [
              "190106"
            ]
          },
          "metadata": {
            "tags": []
          },
          "execution_count": 30
        }
      ]
    },
    {
      "metadata": {
        "id": "gWQ1GtJClBov",
        "colab_type": "code",
        "outputId": "f90ce3a6-5bae-4228-a116-16c6e0dd7872",
        "colab": {
          "base_uri": "https://localhost:8080/",
          "height": 145
        }
      },
      "cell_type": "code",
      "source": [
        "print(x_train.lyrics.values[2][:170])\n",
        "print(X_train[2])"
      ],
      "execution_count": 20,
      "outputs": [
        {
          "output_type": "stream",
          "text": [
            "Hey Manfred, what you doing back there?\n",
            "Come on, come unclean, man!\n",
            "You can turn your back when you paper your crack\n",
            "You can turn both cheecks, you can de-odour the reek\n",
            "\n",
            "[150, 34, 3, 503, 64, 76, 60, 14, 60, 9987, 94, 3, 36, 180, 12, 64, 33, 3, 856, 12, 911, 3, 36, 180, 545, 3, 36, 797, 1, 3, 36, 1141, 12, 246, 11, 10, 33, 3, 57, 84, 24, 3, 22, 456, 116, 23, 12, 1920, 872, 20, 37, 1, 1031, 14, 95, 246, 6, 857, 11, 1200, 5648, 475, 20, 37, 1, 1031, 9, 95, 256, 11, 1200, 1567, 475, 150, 399, 4, 7, 60, 14, 399, 4, 7, 94, 185, 138, 16, 1031, 9, 76, 626, 402, 16, 37, 1, 3005, 21, 1170, 588, 393, 31, 380, 101, 3, 50, 12, 1031, 113, 4036, 67, 10, 41, 94, 60, 14, 29, 3, 216, 29, 12, 3351, 66, 133, 66, 110, 1031, 239, 19, 4900, 829, 3, 70, 77, 1, 1031, 99, 33, 20, 284, 195, 43, 195, 43, 195, 43, 195, 43, 195, 43]\n"
          ],
          "name": "stdout"
        }
      ]
    },
    {
      "metadata": {
        "id": "JIRsUK9vc20U",
        "colab_type": "text"
      },
      "cell_type": "markdown",
      "source": [
        "Por facilidad dejaremos todas las letras de las canciones con el mismo numero de palabras. Como el promedio de palabras por cancion es 229 dejaremos el tamaño de 250"
      ]
    },
    {
      "metadata": {
        "id": "g52hhX5LCb1j",
        "colab_type": "code",
        "colab": {
          "base_uri": "https://localhost:8080/",
          "height": 631
        },
        "outputId": "795ace5f-da2f-45cc-870a-71c8a3ecebc8"
      },
      "cell_type": "code",
      "source": [
        "from keras.preprocessing.sequence import pad_sequences\n",
        "\n",
        "maxlen=250\n",
        "\n",
        "X_train = pad_sequences(X_train, padding='post', maxlen=maxlen)\n",
        "X_test = pad_sequences(X_test, padding='post', maxlen=maxlen)\n",
        "\n",
        "print(x_train.lyrics.values[2][:])\n",
        "print(X_train[2])"
      ],
      "execution_count": 36,
      "outputs": [
        {
          "output_type": "stream",
          "text": [
            "Hey Manfred, what you doing back there?\n",
            "Come on, come unclean, man!\n",
            "You can turn your back when you paper your crack\n",
            "You can turn both cheecks, you can de-odour the reek\n",
            "You can wash your hands of it, when you have been\n",
            "But you don't fool us with your Mister Clean\n",
            "We got the brown on our hands, a piece of Momma Nature's land\n",
            "We got the brown in our glands, care of Momma Nature land\n",
            "Hey Manfred, Manfred, listen to me, come on listen to me man. Inside we're all brown in there somewhere, we've all got the biz. So quit holding ground, no matter who you are your brown still smells. Let it out, man, come on. It's you soul, it's your soil.\n",
            "As long as there's brown we'll be sticking 'round\n",
            "You take away the brown, that's when we start going down\n",
            "Going down, going down, going down, going down...\n",
            "[  150    34     3   503    64    76    60    14    60  9987    94     3\n",
            "    36   180    12    64    33     3   856    12   911     3    36   180\n",
            "   545     3    36   797     1 11101     3    36  1141    12   246    11\n",
            "    10    33     3    57    84    24     3    22   456   116    23    12\n",
            "  1920   872    20    37     1  1031    14    95   246     6   857    11\n",
            "  1200  5648   475    20    37     1  1031     9    95 15745   256    11\n",
            "  1200  1567   475   150   399     4     7    60    14   399     4     7\n",
            "    94   185   138    16  1031     9    76   626   402    16    37     1\n",
            "  3005    21  1170   588   393    31   380   101     3    50    12  1031\n",
            "   113  4036    67    10    41    94    60    14    29     3   216    29\n",
            "    12  3351    66   133    66   110  1031   239    19  4900   829     3\n",
            "    70    77     1  1031    99    33    20   284   195    43   195    43\n",
            "   195    43   195    43   195    43     0     0     0     0     0     0\n",
            "     0     0     0     0     0     0     0     0     0     0     0     0\n",
            "     0     0     0     0     0     0     0     0     0     0     0     0\n",
            "     0     0     0     0     0     0     0     0     0     0     0     0\n",
            "     0     0     0     0     0     0     0     0     0     0     0     0\n",
            "     0     0     0     0     0     0     0     0     0     0     0     0\n",
            "     0     0     0     0     0     0     0     0     0     0     0     0\n",
            "     0     0     0     0     0     0     0     0     0     0     0     0\n",
            "     0     0     0     0     0     0     0     0     0     0]\n"
          ],
          "name": "stdout"
        }
      ]
    },
    {
      "metadata": {
        "id": "Fl84_rEHbvLw",
        "colab_type": "text"
      },
      "cell_type": "markdown",
      "source": [
        "####2.1.1.1 Estadisticas con el tokenizer"
      ]
    },
    {
      "metadata": {
        "id": "oVJxrArFuRTb",
        "colab_type": "code",
        "outputId": "d0ef02cf-ecb3-4889-ecbc-519d8626b29b",
        "colab": {
          "base_uri": "https://localhost:8080/",
          "height": 71
        }
      },
      "cell_type": "code",
      "source": [
        "lyrics_size_words = list(map(len, X_train))\n",
        "print(\"Cantidad de palabras promedio: \", sum(lyrics_size_words)/len(lyrics_size_words))\n",
        "print(\"Cantidad maxima de palabras: \", max(lyrics_size_words))\n",
        "print(\"Cantidad minima de palabras: \", min(lyrics_size_words))"
      ],
      "execution_count": 31,
      "outputs": [
        {
          "output_type": "stream",
          "text": [
            "Cantidad de palabras promedio:  229.1607742086235\n",
            "Cantidad maxima de palabras:  4177\n",
            "Cantidad minima de palabras:  0\n"
          ],
          "name": "stdout"
        }
      ]
    },
    {
      "metadata": {
        "id": "JGFa6I8cYZ_4",
        "colab_type": "code",
        "outputId": "64d56cd6-da14-4742-88a6-ecd545f4929b",
        "colab": {
          "base_uri": "https://localhost:8080/",
          "height": 362
        }
      },
      "cell_type": "code",
      "source": [
        "plt.hist(lyrics_size_words, 1000, alpha=0.75)\n",
        "plt.title('Distribución del tamaño de las canciones')\n",
        "plt.xlim(0, 1000)\n",
        "plt.show()"
      ],
      "execution_count": 32,
      "outputs": [
        {
          "output_type": "display_data",
          "data": {
            "image/png": "[encoded data removed]",
            "text/plain": [
              "<Figure size 576x396 with 1 Axes>"
            ]
          },
          "metadata": {
            "tags": []
          }
        }
      ]
    },
    {
      "metadata": {
        "id": "SXkwZ67d7L8A",
        "colab_type": "text"
      },
      "cell_type": "markdown",
      "source": [
        "###2.1.1 GloVe"
      ]
    },
    {
      "metadata": {
        "id": "cXb4Yior7QBS",
        "colab_type": "code",
        "colab": {
          "base_uri": "https://localhost:8080/",
          "height": 341
        },
        "outputId": "70f24baa-5580-4c56-f6ec-6089ea714033"
      },
      "cell_type": "code",
      "source": [
        "!wget http://nlp.stanford.edu/data/glove.6B.zip\n",
        "!unzip glove*.zip"
      ],
      "execution_count": 24,
      "outputs": [
        {
          "output_type": "stream",
          "text": [
            "--2019-02-25 18:48:40--  http://nlp.stanford.edu/data/glove.6B.zip\n",
            "Resolving nlp.stanford.edu (nlp.stanford.edu)... 171.64.67.140\n",
            "Connecting to nlp.stanford.edu (nlp.stanford.edu)|171.64.67.140|:80... connected.\n",
            "HTTP request sent, awaiting response... 302 Found\n",
            "Location: https://nlp.stanford.edu/data/glove.6B.zip [following]\n",
            "--2019-02-25 18:48:40--  https://nlp.stanford.edu/data/glove.6B.zip\n",
            "Connecting to nlp.stanford.edu (nlp.stanford.edu)|171.64.67.140|:443... connected.\n",
            "HTTP request sent, awaiting response... 200 OK\n",
            "Length: 862182613 (822M) [application/zip]\n",
            "Saving to: ‘glove.6B.zip.1’\n",
            "\n",
            "glove.6B.zip.1      100%[===================>] 822.24M  14.8MB/s    in 32s     \n",
            "\n",
            "2019-02-25 18:49:13 (25.6 MB/s) - ‘glove.6B.zip.1’ saved [862182613/862182613]\n",
            "\n",
            "Archive:  glove.6B.zip\n",
            "replace glove.6B.50d.txt? [y]es, [n]o, [A]ll, [N]one, [r]ename: n\n",
            "replace glove.6B.100d.txt? [y]es, [n]o, [A]ll, [N]one, [r]ename: N\n"
          ],
          "name": "stdout"
        }
      ]
    },
    {
      "metadata": {
        "id": "BEt00nTR90aa",
        "colab_type": "code",
        "colab": {
          "base_uri": "https://localhost:8080/",
          "height": 18035
        },
        "outputId": "1b453daa-733f-4653-f611-9cf51b3fc441"
      },
      "cell_type": "code",
      "source": [
        "tokenizer.word_index"
      ],
      "execution_count": 25,
      "outputs": [
        {
          "output_type": "execute_result",
          "data": {
            "text/plain": [
              "{'the': 1,\n",
              " 'i': 2,\n",
              " 'you': 3,\n",
              " 'to': 4,\n",
              " 'and': 5,\n",
              " 'a': 6,\n",
              " 'me': 7,\n",
              " 'my': 8,\n",
              " 'in': 9,\n",
              " 'it': 10,\n",
              " 'of': 11,\n",
              " 'your': 12,\n",
              " 'that': 13,\n",
              " 'on': 14,\n",
              " \"i'm\": 15,\n",
              " 'all': 16,\n",
              " 'is': 17,\n",
              " 'for': 18,\n",
              " 'be': 19,\n",
              " 'we': 20,\n",
              " 'so': 21,\n",
              " \"don't\": 22,\n",
              " 'with': 23,\n",
              " 'but': 24,\n",
              " 'know': 25,\n",
              " 'like': 26,\n",
              " 'love': 27,\n",
              " 'this': 28,\n",
              " \"it's\": 29,\n",
              " 'just': 30,\n",
              " 'no': 31,\n",
              " 'up': 32,\n",
              " 'when': 33,\n",
              " 'what': 34,\n",
              " 'now': 35,\n",
              " 'can': 36,\n",
              " 'got': 37,\n",
              " 'do': 38,\n",
              " 'oh': 39,\n",
              " 'get': 40,\n",
              " 'out': 41,\n",
              " 'if': 42,\n",
              " 'down': 43,\n",
              " 'one': 44,\n",
              " 'time': 45,\n",
              " 'they': 46,\n",
              " 'go': 47,\n",
              " 'see': 48,\n",
              " 'was': 49,\n",
              " 'are': 50,\n",
              " \"you're\": 51,\n",
              " 'never': 52,\n",
              " 'will': 53,\n",
              " 'from': 54,\n",
              " 'not': 55,\n",
              " 'want': 56,\n",
              " 'have': 57,\n",
              " 'she': 58,\n",
              " \"can't\": 59,\n",
              " 'come': 60,\n",
              " 'way': 61,\n",
              " 'at': 62,\n",
              " 'baby': 63,\n",
              " 'back': 64,\n",
              " 'say': 65,\n",
              " 'as': 66,\n",
              " 'let': 67,\n",
              " 'yeah': 68,\n",
              " 'make': 69,\n",
              " 'take': 70,\n",
              " 'her': 71,\n",
              " \"i'll\": 72,\n",
              " 'he': 73,\n",
              " 'how': 74,\n",
              " 'life': 75,\n",
              " 'there': 76,\n",
              " 'away': 77,\n",
              " 'here': 78,\n",
              " 'feel': 79,\n",
              " 'right': 80,\n",
              " 'by': 81,\n",
              " 'gonna': 82,\n",
              " \"i've\": 83,\n",
              " 'been': 84,\n",
              " 'where': 85,\n",
              " \"ain't\": 86,\n",
              " 'more': 87,\n",
              " 'need': 88,\n",
              " 'could': 89,\n",
              " 'day': 90,\n",
              " 'heart': 91,\n",
              " 'tell': 92,\n",
              " 'night': 93,\n",
              " 'man': 94,\n",
              " 'our': 95,\n",
              " 'through': 96,\n",
              " 'world': 97,\n",
              " 'or': 98,\n",
              " \"that's\": 99,\n",
              " 'too': 100,\n",
              " 'who': 101,\n",
              " 'about': 102,\n",
              " 'then': 103,\n",
              " 'some': 104,\n",
              " 'think': 105,\n",
              " 'only': 106,\n",
              " 'give': 107,\n",
              " \"'cause\": 108,\n",
              " 'wanna': 109,\n",
              " \"there's\": 110,\n",
              " 'girl': 111,\n",
              " 'why': 112,\n",
              " 'still': 113,\n",
              " 'again': 114,\n",
              " 'keep': 115,\n",
              " 'us': 116,\n",
              " 'his': 117,\n",
              " 'good': 118,\n",
              " 'eyes': 119,\n",
              " 'little': 120,\n",
              " 'them': 121,\n",
              " 'around': 122,\n",
              " 'well': 123,\n",
              " 'said': 124,\n",
              " 'over': 125,\n",
              " \"won't\": 126,\n",
              " 'had': 127,\n",
              " 'every': 128,\n",
              " 'chorus': 129,\n",
              " 'mind': 130,\n",
              " 'would': 131,\n",
              " 'look': 132,\n",
              " 'long': 133,\n",
              " 'am': 134,\n",
              " 'always': 135,\n",
              " 'were': 136,\n",
              " 'find': 137,\n",
              " \"we're\": 138,\n",
              " 'ever': 139,\n",
              " 'cause': 140,\n",
              " 'home': 141,\n",
              " 'an': 142,\n",
              " 'off': 143,\n",
              " 'nothing': 144,\n",
              " 'into': 145,\n",
              " 'these': 146,\n",
              " 'gone': 147,\n",
              " 'things': 148,\n",
              " 'better': 149,\n",
              " 'hey': 150,\n",
              " 'hold': 151,\n",
              " 'ya': 152,\n",
              " 'hear': 153,\n",
              " 'gotta': 154,\n",
              " 'before': 155,\n",
              " 'than': 156,\n",
              " 'him': 157,\n",
              " 'shit': 158,\n",
              " 'live': 159,\n",
              " 'much': 160,\n",
              " 'really': 161,\n",
              " 'new': 162,\n",
              " 'put': 163,\n",
              " 'try': 164,\n",
              " 'light': 165,\n",
              " 'everything': 166,\n",
              " 'alone': 167,\n",
              " 'something': 168,\n",
              " 'nigga': 169,\n",
              " \"you'll\": 170,\n",
              " 'leave': 171,\n",
              " 'head': 172,\n",
              " 'call': 173,\n",
              " 'face': 174,\n",
              " 'another': 175,\n",
              " 'believe': 176,\n",
              " 'left': 177,\n",
              " 'stop': 178,\n",
              " 'tonight': 179,\n",
              " 'turn': 180,\n",
              " 'even': 181,\n",
              " 'did': 182,\n",
              " \"she's\": 183,\n",
              " 'made': 184,\n",
              " 'inside': 185,\n",
              " 'stay': 186,\n",
              " \"you've\": 187,\n",
              " 'thing': 188,\n",
              " 'run': 189,\n",
              " 'their': 190,\n",
              " 'last': 191,\n",
              " 'fuck': 192,\n",
              " 'hard': 193,\n",
              " 'old': 194,\n",
              " 'going': 195,\n",
              " 'has': 196,\n",
              " 'fall': 197,\n",
              " 'la': 198,\n",
              " 'people': 199,\n",
              " 'show': 200,\n",
              " \"i'd\": 201,\n",
              " 'end': 202,\n",
              " 'same': 203,\n",
              " 'place': 204,\n",
              " 'real': 205,\n",
              " 'money': 206,\n",
              " 'lost': 207,\n",
              " 'die': 208,\n",
              " 'should': 209,\n",
              " 'without': 210,\n",
              " 'its': 211,\n",
              " 'god': 212,\n",
              " 'boy': 213,\n",
              " 'two': 214,\n",
              " 'wrong': 215,\n",
              " 'soul': 216,\n",
              " 'hand': 217,\n",
              " 'sun': 218,\n",
              " 'name': 219,\n",
              " 'own': 220,\n",
              " \"let's\": 221,\n",
              " 'mine': 222,\n",
              " 'free': 223,\n",
              " 'while': 224,\n",
              " 'dream': 225,\n",
              " 'true': 226,\n",
              " 'big': 227,\n",
              " 'high': 228,\n",
              " 'walk': 229,\n",
              " 'thought': 230,\n",
              " 'please': 231,\n",
              " 'play': 232,\n",
              " 'niggas': 233,\n",
              " 'break': 234,\n",
              " 'change': 235,\n",
              " \"he's\": 236,\n",
              " 'bad': 237,\n",
              " 'done': 238,\n",
              " \"we'll\": 239,\n",
              " 'far': 240,\n",
              " 'myself': 241,\n",
              " 'pain': 242,\n",
              " 'feeling': 243,\n",
              " 'fire': 244,\n",
              " 'those': 245,\n",
              " 'hands': 246,\n",
              " 'other': 247,\n",
              " 'ooh': 248,\n",
              " 'forever': 249,\n",
              " 'stand': 250,\n",
              " 'enough': 251,\n",
              " 'cry': 252,\n",
              " 'days': 253,\n",
              " \"what's\": 254,\n",
              " 'side': 255,\n",
              " 'care': 256,\n",
              " 'black': 257,\n",
              " 'coming': 258,\n",
              " 'bitch': 259,\n",
              " 'yes': 260,\n",
              " 'sky': 261,\n",
              " 'must': 262,\n",
              " 'song': 263,\n",
              " 'maybe': 264,\n",
              " 'words': 265,\n",
              " 'came': 266,\n",
              " 'remember': 267,\n",
              " 'cold': 268,\n",
              " 'waiting': 269,\n",
              " 'hope': 270,\n",
              " 'someone': 271,\n",
              " 'yo': 272,\n",
              " 'told': 273,\n",
              " 'dreams': 274,\n",
              " 'bring': 275,\n",
              " \"didn't\": 276,\n",
              " 'looking': 277,\n",
              " 'wait': 278,\n",
              " 'best': 279,\n",
              " 'might': 280,\n",
              " 'watch': 281,\n",
              " 'comes': 282,\n",
              " 'found': 283,\n",
              " 'start': 284,\n",
              " 'talk': 285,\n",
              " 'dead': 286,\n",
              " 'because': 287,\n",
              " \"'em\": 288,\n",
              " 'together': 289,\n",
              " 'first': 290,\n",
              " 'once': 291,\n",
              " 'many': 292,\n",
              " 'wish': 293,\n",
              " 'dance': 294,\n",
              " 'move': 295,\n",
              " 'sweet': 296,\n",
              " 'rock': 297,\n",
              " 'hit': 298,\n",
              " 'knew': 299,\n",
              " 'used': 300,\n",
              " 'sing': 301,\n",
              " 'ride': 302,\n",
              " 'times': 303,\n",
              " 'blue': 304,\n",
              " 'close': 305,\n",
              " 'seen': 306,\n",
              " 'rain': 307,\n",
              " 'game': 308,\n",
              " 'fly': 309,\n",
              " 'help': 310,\n",
              " 'door': 311,\n",
              " 'until': 312,\n",
              " 'living': 313,\n",
              " 'open': 314,\n",
              " 'town': 315,\n",
              " 'mean': 316,\n",
              " 'blood': 317,\n",
              " 'fight': 318,\n",
              " 'body': 319,\n",
              " 'behind': 320,\n",
              " 'kiss': 321,\n",
              " 'everybody': 322,\n",
              " 'crazy': 323,\n",
              " 'after': 324,\n",
              " 'deep': 325,\n",
              " 'dark': 326,\n",
              " 'hell': 327,\n",
              " 'ready': 328,\n",
              " 'work': 329,\n",
              " 'goes': 330,\n",
              " 'till': 331,\n",
              " 'hate': 332,\n",
              " 'sleep': 333,\n",
              " 'sure': 334,\n",
              " 'friends': 335,\n",
              " 'forget': 336,\n",
              " \"they're\": 337,\n",
              " 'touch': 338,\n",
              " 'getting': 339,\n",
              " 'may': 340,\n",
              " 'makes': 341,\n",
              " 'took': 342,\n",
              " 'lose': 343,\n",
              " 'trying': 344,\n",
              " 'friend': 345,\n",
              " 'line': 346,\n",
              " 'uh': 347,\n",
              " 'lord': 348,\n",
              " 'yourself': 349,\n",
              " 'lie': 350,\n",
              " 'na': 351,\n",
              " 'any': 352,\n",
              " 'im': 353,\n",
              " 'ass': 354,\n",
              " 'whole': 355,\n",
              " 'though': 356,\n",
              " 'ah': 357,\n",
              " 'young': 358,\n",
              " 'today': 359,\n",
              " 'sometimes': 360,\n",
              " 'tears': 361,\n",
              " 'alright': 362,\n",
              " 'understand': 363,\n",
              " 'morning': 364,\n",
              " 'heard': 365,\n",
              " 'smile': 366,\n",
              " 'knows': 367,\n",
              " 'beat': 368,\n",
              " 'years': 369,\n",
              " 'lonely': 370,\n",
              " 'nobody': 371,\n",
              " 'roll': 372,\n",
              " 'set': 373,\n",
              " 'lies': 374,\n",
              " 'under': 375,\n",
              " 'da': 376,\n",
              " 'sound': 377,\n",
              " 'truth': 378,\n",
              " 'girls': 379,\n",
              " 'matter': 380,\n",
              " 'road': 381,\n",
              " 'running': 382,\n",
              " 'broken': 383,\n",
              " 'anything': 384,\n",
              " 'else': 385,\n",
              " 'death': 386,\n",
              " 'round': 387,\n",
              " 'saw': 388,\n",
              " 'next': 389,\n",
              " 'guess': 390,\n",
              " 'music': 391,\n",
              " 'falling': 392,\n",
              " 'ground': 393,\n",
              " 'late': 394,\n",
              " 'each': 395,\n",
              " 'hot': 396,\n",
              " 'fear': 397,\n",
              " 'white': 398,\n",
              " 'listen': 399,\n",
              " 'woman': 400,\n",
              " 'kind': 401,\n",
              " \"we've\": 402,\n",
              " 'easy': 403,\n",
              " 'city': 404,\n",
              " 'seems': 405,\n",
              " 'heaven': 406,\n",
              " 'ask': 407,\n",
              " 'went': 408,\n",
              " 'miss': 409,\n",
              " 'house': 410,\n",
              " 'alive': 411,\n",
              " 'verse': 412,\n",
              " 'burn': 413,\n",
              " 'chance': 414,\n",
              " 'happy': 415,\n",
              " 'save': 416,\n",
              " 'hide': 417,\n",
              " 'kill': 418,\n",
              " 'arms': 419,\n",
              " 'o': 420,\n",
              " 'red': 421,\n",
              " 'word': 422,\n",
              " 'gave': 423,\n",
              " 'strong': 424,\n",
              " 'since': 425,\n",
              " 'air': 426,\n",
              " 'wanted': 427,\n",
              " 'full': 428,\n",
              " 'stars': 429,\n",
              " 'somebody': 430,\n",
              " \"couldn't\": 431,\n",
              " 'room': 432,\n",
              " 'goodbye': 433,\n",
              " 'past': 434,\n",
              " 'along': 435,\n",
              " 'lot': 436,\n",
              " 'wind': 437,\n",
              " 'soon': 438,\n",
              " 'beautiful': 439,\n",
              " 'lay': 440,\n",
              " 'war': 441,\n",
              " 'tried': 442,\n",
              " 'hurt': 443,\n",
              " 'wonder': 444,\n",
              " 'fine': 445,\n",
              " 'wake': 446,\n",
              " 'street': 447,\n",
              " 'feet': 448,\n",
              " 'pretty': 449,\n",
              " 'reason': 450,\n",
              " 'lights': 451,\n",
              " 'thinking': 452,\n",
              " 'feels': 453,\n",
              " '2': 454,\n",
              " 'does': 455,\n",
              " 'fool': 456,\n",
              " 'party': 457,\n",
              " 'shine': 458,\n",
              " 'born': 459,\n",
              " \"y'all\": 460,\n",
              " 'floor': 461,\n",
              " 'top': 462,\n",
              " 'part': 463,\n",
              " 'moon': 464,\n",
              " 'slow': 465,\n",
              " 'damn': 466,\n",
              " 'being': 467,\n",
              " 'bed': 468,\n",
              " 'low': 469,\n",
              " 'control': 470,\n",
              " 'such': 471,\n",
              " 'step': 472,\n",
              " 'upon': 473,\n",
              " \"you'd\": 474,\n",
              " 'land': 475,\n",
              " 'three': 476,\n",
              " 'fucking': 477,\n",
              " 'water': 478,\n",
              " 'throw': 479,\n",
              " 'tomorrow': 480,\n",
              " 'fast': 481,\n",
              " 'pay': 482,\n",
              " 'between': 483,\n",
              " 'above': 484,\n",
              " 'eye': 485,\n",
              " 'follow': 486,\n",
              " 'rest': 487,\n",
              " 'straight': 488,\n",
              " 'shake': 489,\n",
              " 'boys': 490,\n",
              " 'dont': 491,\n",
              " 'making': 492,\n",
              " 'very': 493,\n",
              " 'apart': 494,\n",
              " 'star': 495,\n",
              " 'gets': 496,\n",
              " 'sea': 497,\n",
              " 'meet': 498,\n",
              " \"doesn't\": 499,\n",
              " 'whoa': 500,\n",
              " 's': 501,\n",
              " \"who's\": 502,\n",
              " 'doing': 503,\n",
              " 'burning': 504,\n",
              " \"wouldn't\": 505,\n",
              " 'car': 506,\n",
              " 'sit': 507,\n",
              " 'talking': 508,\n",
              " 'everyone': 509,\n",
              " 'drop': 510,\n",
              " 'blow': 511,\n",
              " 'pull': 512,\n",
              " 'cool': 513,\n",
              " 'standing': 514,\n",
              " 'cut': 515,\n",
              " 'catch': 516,\n",
              " 'moment': 517,\n",
              " 'fun': 518,\n",
              " 'child': 519,\n",
              " 'anymore': 520,\n",
              " 'earth': 521,\n",
              " 'takes': 522,\n",
              " 'breath': 523,\n",
              " 'afraid': 524,\n",
              " 'seem': 525,\n",
              " 't': 526,\n",
              " 'walking': 527,\n",
              " 'wild': 528,\n",
              " \"'bout\": 529,\n",
              " 'felt': 530,\n",
              " 'use': 531,\n",
              " 'streets': 532,\n",
              " 'loved': 533,\n",
              " 'tired': 534,\n",
              " 'yet': 535,\n",
              " 'sorry': 536,\n",
              " 'voice': 537,\n",
              " 'peace': 538,\n",
              " 'son': 539,\n",
              " 'says': 540,\n",
              " 'king': 541,\n",
              " '1': 542,\n",
              " \"goin'\": 543,\n",
              " 'christmas': 544,\n",
              " 'both': 545,\n",
              " 'honey': 546,\n",
              " 'caught': 547,\n",
              " 'em': 548,\n",
              " 'drink': 549,\n",
              " 'turned': 550,\n",
              " 'hearts': 551,\n",
              " 'mama': 552,\n",
              " \"'til\": 553,\n",
              " 'blind': 554,\n",
              " 'calling': 555,\n",
              " 'wall': 556,\n",
              " 'great': 557,\n",
              " 'hair': 558,\n",
              " 'gun': 559,\n",
              " 'rise': 560,\n",
              " 'bit': 561,\n",
              " 'taking': 562,\n",
              " 'mother': 563,\n",
              " 'power': 564,\n",
              " 'bitches': 565,\n",
              " 'sad': 566,\n",
              " 'lives': 567,\n",
              " 'tight': 568,\n",
              " 'started': 569,\n",
              " 'learn': 570,\n",
              " 'ha': 571,\n",
              " 'skin': 572,\n",
              " 'loving': 573,\n",
              " 'trust': 574,\n",
              " 'gold': 575,\n",
              " 'most': 576,\n",
              " 'drive': 577,\n",
              " 'men': 578,\n",
              " 'sick': 579,\n",
              " 'reach': 580,\n",
              " 'pray': 581,\n",
              " 'wit': 582,\n",
              " 'repeat': 583,\n",
              " 'half': 584,\n",
              " 'breathe': 585,\n",
              " 'wants': 586,\n",
              " 'pass': 587,\n",
              " 'holding': 588,\n",
              " 'darkness': 589,\n",
              " 'speak': 590,\n",
              " 'empty': 591,\n",
              " \"gon'\": 592,\n",
              " 'lips': 593,\n",
              " 'front': 594,\n",
              " 'different': 595,\n",
              " 'summer': 596,\n",
              " 'shot': 597,\n",
              " 'check': 598,\n",
              " 'd': 599,\n",
              " 'clear': 600,\n",
              " 'outside': 601,\n",
              " \"wasn't\": 602,\n",
              " 'smoke': 603,\n",
              " 'grow': 604,\n",
              " 'met': 605,\n",
              " 'blame': 606,\n",
              " 'kids': 607,\n",
              " 'bright': 608,\n",
              " 'mouth': 609,\n",
              " 'across': 610,\n",
              " 'yours': 611,\n",
              " 'four': 612,\n",
              " 'ones': 613,\n",
              " 'whatever': 614,\n",
              " 'story': 615,\n",
              " 'lead': 616,\n",
              " 'e': 617,\n",
              " 'g': 618,\n",
              " 'babe': 619,\n",
              " 'which': 620,\n",
              " 'mad': 621,\n",
              " 'cannot': 622,\n",
              " 'year': 623,\n",
              " 'keeps': 624,\n",
              " 'nights': 625,\n",
              " 'somewhere': 626,\n",
              " 'watching': 627,\n",
              " 'broke': 628,\n",
              " 'dear': 629,\n",
              " 'known': 630,\n",
              " 'saying': 631,\n",
              " 'nice': 632,\n",
              " 'called': 633,\n",
              " 'phone': 634,\n",
              " 'leaving': 635,\n",
              " 'perfect': 636,\n",
              " 'lady': 637,\n",
              " 'carry': 638,\n",
              " 'niggaz': 639,\n",
              " 'already': 640,\n",
              " 'worth': 641,\n",
              " 'u': 642,\n",
              " 'jesus': 643,\n",
              " 'river': 644,\n",
              " 'children': 645,\n",
              " 'train': 646,\n",
              " 'b': 647,\n",
              " \"nothin'\": 648,\n",
              " 'meant': 649,\n",
              " 'ways': 650,\n",
              " 'promise': 651,\n",
              " 'bout': 652,\n",
              " 'future': 653,\n",
              " 'dog': 654,\n",
              " 'faith': 655,\n",
              " 'fell': 656,\n",
              " \"comin'\": 657,\n",
              " 'tear': 658,\n",
              " 'taste': 659,\n",
              " 'huh': 660,\n",
              " 'against': 661,\n",
              " 'angel': 662,\n",
              " 'dirty': 663,\n",
              " 'brother': 664,\n",
              " 'crying': 665,\n",
              " 'near': 666,\n",
              " 'fade': 667,\n",
              " 'win': 668,\n",
              " 'ring': 669,\n",
              " 'yea': 670,\n",
              " 'x2': 671,\n",
              " 'dying': 672,\n",
              " 'finally': 673,\n",
              " 'eat': 674,\n",
              " 'within': 675,\n",
              " 'daddy': 676,\n",
              " 'read': 677,\n",
              " 'five': 678,\n",
              " 'scared': 679,\n",
              " 'dancing': 680,\n",
              " 'knees': 681,\n",
              " 'thousand': 682,\n",
              " 'thoughts': 683,\n",
              " 'singing': 684,\n",
              " \"isn't\": 685,\n",
              " 'moving': 686,\n",
              " 'darling': 687,\n",
              " \"gettin'\": 688,\n",
              " 'pick': 689,\n",
              " 'spend': 690,\n",
              " 'flow': 691,\n",
              " 'shall': 692,\n",
              " 'everyday': 693,\n",
              " 'm': 694,\n",
              " 'nowhere': 695,\n",
              " 'memories': 696,\n",
              " 'second': 697,\n",
              " 'green': 698,\n",
              " 'walls': 699,\n",
              " 'cross': 700,\n",
              " 'send': 701,\n",
              " 'shame': 702,\n",
              " 'laugh': 703,\n",
              " 'playing': 704,\n",
              " 'window': 705,\n",
              " 'rap': 706,\n",
              " 'cant': 707,\n",
              " 'sight': 708,\n",
              " \"lookin'\": 709,\n",
              " 'hook': 710,\n",
              " 'worry': 711,\n",
              " 'buy': 712,\n",
              " 'n': 713,\n",
              " 'club': 714,\n",
              " 'trouble': 715,\n",
              " 'warm': 716,\n",
              " 'pop': 717,\n",
              " 'looks': 718,\n",
              " \"i'ma\": 719,\n",
              " 'sign': 720,\n",
              " 'million': 721,\n",
              " 'silence': 722,\n",
              " 'stone': 723,\n",
              " 'act': 724,\n",
              " 'needs': 725,\n",
              " 'become': 726,\n",
              " 'loves': 727,\n",
              " 'number': 728,\n",
              " 'picture': 729,\n",
              " 'scream': 730,\n",
              " 'turning': 731,\n",
              " 'swear': 732,\n",
              " 'giving': 733,\n",
              " 'kid': 734,\n",
              " 'walked': 735,\n",
              " 'hang': 736,\n",
              " 'everywhere': 737,\n",
              " 'kick': 738,\n",
              " 'father': 739,\n",
              " \"they'll\": 740,\n",
              " 'loud': 741,\n",
              " 'jump': 742,\n",
              " 'evil': 743,\n",
              " 'wide': 744,\n",
              " 'brain': 745,\n",
              " 'ice': 746,\n",
              " 'waste': 747,\n",
              " 'school': 748,\n",
              " 'changed': 749,\n",
              " 'blues': 750,\n",
              " 'someday': 751,\n",
              " 'guy': 752,\n",
              " 'fill': 753,\n",
              " 'ho': 754,\n",
              " 'shut': 755,\n",
              " 'lover': 756,\n",
              " 'closer': 757,\n",
              " 'answer': 758,\n",
              " 'doubt': 759,\n",
              " 'wings': 760,\n",
              " 'higher': 761,\n",
              " 'looked': 762,\n",
              " 'point': 763,\n",
              " 'breaking': 764,\n",
              " 'human': 765,\n",
              " 'write': 766,\n",
              " 'space': 767,\n",
              " 'rather': 768,\n",
              " '3': 769,\n",
              " 'telling': 770,\n",
              " \"tryin'\": 771,\n",
              " 'push': 772,\n",
              " 'bye': 773,\n",
              " 'pride': 774,\n",
              " 'anyone': 775,\n",
              " 'okay': 776,\n",
              " 'stuck': 777,\n",
              " 'hoes': 778,\n",
              " 'beyond': 779,\n",
              " 'wear': 780,\n",
              " 'thank': 781,\n",
              " 'bang': 782,\n",
              " 'hood': 783,\n",
              " 'dem': 784,\n",
              " 'style': 785,\n",
              " 'share': 786,\n",
              " 'dreaming': 787,\n",
              " 'losing': 788,\n",
              " 'bet': 789,\n",
              " 'ten': 790,\n",
              " 'minute': 791,\n",
              " 'miles': 792,\n",
              " 'joy': 793,\n",
              " 'belong': 794,\n",
              " 'shoes': 795,\n",
              " 'strange': 796,\n",
              " 'de': 797,\n",
              " 'angels': 798,\n",
              " 'snow': 799,\n",
              " 'dick': 800,\n",
              " 'longer': 801,\n",
              " 'means': 802,\n",
              " 'family': 803,\n",
              " 'almost': 804,\n",
              " 'bone': 805,\n",
              " 'magic': 806,\n",
              " 'c': 807,\n",
              " 'songs': 808,\n",
              " 'sense': 809,\n",
              " 'memory': 810,\n",
              " 'heat': 811,\n",
              " 'aint': 812,\n",
              " 'block': 813,\n",
              " 'ill': 814,\n",
              " 'freedom': 815,\n",
              " 'six': 816,\n",
              " 'clouds': 817,\n",
              " 'died': 818,\n",
              " 'tree': 819,\n",
              " 'country': 820,\n",
              " 'shadows': 821,\n",
              " 'small': 822,\n",
              " 'devil': 823,\n",
              " 'holy': 824,\n",
              " \"lovin'\": 825,\n",
              " \"fuckin'\": 826,\n",
              " \"feelin'\": 827,\n",
              " \"talkin'\": 828,\n",
              " \"'round\": 829,\n",
              " 'safe': 830,\n",
              " 'mr': 831,\n",
              " \"here's\": 832,\n",
              " 'radio': 833,\n",
              " 'gimme': 834,\n",
              " 'funny': 835,\n",
              " 'hello': 836,\n",
              " 'dawn': 837,\n",
              " 'few': 838,\n",
              " 'shining': 839,\n",
              " 'ahead': 840,\n",
              " 'middle': 841,\n",
              " 'less': 842,\n",
              " 'clothes': 843,\n",
              " 'wine': 844,\n",
              " 'lying': 845,\n",
              " 'self': 846,\n",
              " 'sin': 847,\n",
              " 'feelings': 848,\n",
              " 'anyway': 849,\n",
              " 'cash': 850,\n",
              " 'lets': 851,\n",
              " 'held': 852,\n",
              " 'storm': 853,\n",
              " 'single': 854,\n",
              " 'l': 855,\n",
              " 'paper': 856,\n",
              " 'piece': 857,\n",
              " 'mi': 858,\n",
              " 'killing': 859,\n",
              " 'count': 860,\n",
              " 'bridge': 861,\n",
              " 'dry': 862,\n",
              " 'ago': 863,\n",
              " 'stick': 864,\n",
              " \"she'll\": 865,\n",
              " 'boom': 866,\n",
              " 'shoot': 867,\n",
              " 'corner': 868,\n",
              " 'weak': 869,\n",
              " 'ball': 870,\n",
              " 'hundred': 871,\n",
              " 'clean': 872,\n",
              " 'kept': 873,\n",
              " \"livin'\": 874,\n",
              " 'ocean': 875,\n",
              " 'slowly': 876,\n",
              " 'rich': 877,\n",
              " 'realize': 878,\n",
              " 'happen': 879,\n",
              " 'poor': 880,\n",
              " 'state': 881,\n",
              " 'somehow': 882,\n",
              " 'glass': 883,\n",
              " 'mess': 884,\n",
              " 'secret': 885,\n",
              " 'begin': 886,\n",
              " 'skies': 887,\n",
              " 'hurts': 888,\n",
              " 'leaves': 889,\n",
              " 'working': 890,\n",
              " 'p': 891,\n",
              " 'sitting': 892,\n",
              " 'pretend': 893,\n",
              " 'lines': 894,\n",
              " 'deal': 895,\n",
              " \"doin'\": 896,\n",
              " 'flesh': 897,\n",
              " 'outta': 898,\n",
              " 'turns': 899,\n",
              " 'knock': 900,\n",
              " 'fake': 901,\n",
              " 'kinda': 902,\n",
              " 'hole': 903,\n",
              " 'treat': 904,\n",
              " 'missing': 905,\n",
              " 'yesterday': 906,\n",
              " 'played': 907,\n",
              " 'dust': 908,\n",
              " 'fate': 909,\n",
              " 'plan': 910,\n",
              " 'crack': 911,\n",
              " 'choose': 912,\n",
              " 'brought': 913,\n",
              " 'sex': 914,\n",
              " 'mirror': 915,\n",
              " 'learned': 916,\n",
              " 'hour': 917,\n",
              " 'taken': 918,\n",
              " 'trees': 919,\n",
              " 'women': 920,\n",
              " 'desire': 921,\n",
              " 'tryna': 922,\n",
              " 'track': 923,\n",
              " 'seven': 924,\n",
              " 'raise': 925,\n",
              " \"runnin'\": 926,\n",
              " 'return': 927,\n",
              " 'crowd': 928,\n",
              " 'glory': 929,\n",
              " \"he'll\": 930,\n",
              " 'spirit': 931,\n",
              " 'shout': 932,\n",
              " 'glad': 933,\n",
              " 'none': 934,\n",
              " 'survive': 935,\n",
              " 'fucked': 936,\n",
              " 'special': 937,\n",
              " 'welcome': 938,\n",
              " 'mountain': 939,\n",
              " 'quick': 940,\n",
              " 'simple': 941,\n",
              " \"c'mon\": 942,\n",
              " 'needed': 943,\n",
              " 'awake': 944,\n",
              " 'filled': 945,\n",
              " 'searching': 946,\n",
              " 'nine': 947,\n",
              " 'sand': 948,\n",
              " 'sell': 949,\n",
              " 'having': 950,\n",
              " 'scene': 951,\n",
              " 'insane': 952,\n",
              " 'heavy': 953,\n",
              " 'bust': 954,\n",
              " 'escape': 955,\n",
              " 'di': 956,\n",
              " 'ends': 957,\n",
              " 'winter': 958,\n",
              " \"haven't\": 959,\n",
              " 'shadow': 960,\n",
              " 'bleed': 961,\n",
              " 'brand': 962,\n",
              " 'fighting': 963,\n",
              " 'forgive': 964,\n",
              " 'flame': 965,\n",
              " 'thats': 966,\n",
              " \"we'd\": 967,\n",
              " 'quite': 968,\n",
              " 'west': 969,\n",
              " 'given': 970,\n",
              " 'key': 971,\n",
              " 'happened': 972,\n",
              " 'spit': 973,\n",
              " 'stupid': 974,\n",
              " 'cover': 975,\n",
              " 'sorrow': 976,\n",
              " 'knowing': 977,\n",
              " 'bones': 978,\n",
              " 'wife': 979,\n",
              " 'beauty': 980,\n",
              " 'queen': 981,\n",
              " 'build': 982,\n",
              " '4': 983,\n",
              " 'rolling': 984,\n",
              " 'luck': 985,\n",
              " 'strength': 986,\n",
              " 'loose': 987,\n",
              " 'sleeping': 988,\n",
              " 'fact': 989,\n",
              " 'pussy': 990,\n",
              " 'hanging': 991,\n",
              " 'instead': 992,\n",
              " 'falls': 993,\n",
              " 'price': 994,\n",
              " 'paid': 995,\n",
              " 'band': 996,\n",
              " 'faces': 997,\n",
              " 'job': 998,\n",
              " 'spent': 999,\n",
              " 'grace': 1000,\n",
              " ...}"
            ]
          },
          "metadata": {
            "tags": []
          },
          "execution_count": 25
        }
      ]
    },
    {
      "metadata": {
        "id": "Kr1gTl2RegD3",
        "colab_type": "text"
      },
      "cell_type": "markdown",
      "source": [
        "###2.1.2 Embedding Layer"
      ]
    },
    {
      "metadata": {
        "id": "bx6ZJ3ERzYmp",
        "colab_type": "code",
        "outputId": "b9ab1d8e-3de2-4581-89f9-d7852474afcf",
        "colab": {
          "base_uri": "https://localhost:8080/",
          "height": 91
        }
      },
      "cell_type": "code",
      "source": [
        "def plot_history(history):\n",
        "    acc = history.history['acc']\n",
        "    val_acc = history.history['val_acc']\n",
        "    loss = history.history['loss']\n",
        "    val_loss = history.history['val_loss']\n",
        "    x = range(1, len(acc) + 1)\n",
        "\n",
        "    plt.figure(figsize=(12, 5))\n",
        "    plt.subplot(1, 2, 1)\n",
        "    plt.plot(x, acc, 'b', label='Training acc')\n",
        "    plt.plot(x, val_acc, 'r', label='Validation acc')\n",
        "    plt.title('Training and validation accuracy')\n",
        "    plt.legend()\n",
        "    plt.subplot(1, 2, 2)\n",
        "    plt.plot(x, loss, 'b', label='Training loss')\n",
        "    plt.plot(x, val_loss, 'r', label='Validation loss')\n",
        "    plt.title('Training and validation loss')\n",
        "    plt.legend()"
      ],
      "execution_count": 0,
      "outputs": [
        {
          "output_type": "execute_result",
          "data": {
            "text/plain": [
              "array(['Deathray, deathray\\nDeathray, deathray\\nDeathray, deathray\\nDeathray, deathray\\nDeathray, deathray\\nDeathray, deathray\\nDeathray, deathray\\nDeathray, deathray',\n",
              "       'Danceaholic\\nDanceaholic\\nDanceaholic\\nDanceaholic\\nDanceaholic\\nDanceaholic\\nDanceaholic\\nDanceaholic\\nDanceaholic\\nDanceaholic\\nDanceaholic\\nDanceaholic\\nDanceaholic\\nDanceaholic\\nDanceaholic\\nDanceaholic\\nDanceaholic\\nDanceaholic\\nDanceaholic'],\n",
              "      dtype=object)"
            ]
          },
          "metadata": {
            "tags": []
          },
          "execution_count": 64
        }
      ]
    }
  ]
}